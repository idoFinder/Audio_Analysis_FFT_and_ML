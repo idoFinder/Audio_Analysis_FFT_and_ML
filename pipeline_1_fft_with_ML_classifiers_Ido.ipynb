{
  "nbformat": 4,
  "nbformat_minor": 0,
  "metadata": {
    "colab": {
      "name": "pipeline_1_fft_with_ML_classifiers_Ido.ipynb",
      "provenance": [],
      "collapsed_sections": [
        "pYx_Jug4Zw1l",
        "XZSW5sfiZ4tX",
        "VtcT7rsoZ8TQ",
        "gL1vbfCoaufz",
        "3OQ10AgXdeu-",
        "LdDr9mWKHfnE",
        "j9T5dUuQPwUH",
        "ycIeNR3KIoyB",
        "rT_b7Luf0xvA",
        "I5HhB6841Aiy",
        "geQ3zqJtkc1e",
        "RxXNCUlzmHDG",
        "T-hHPrxZ6wSZ",
        "pAR-yQYkhfIe",
        "X4OLzZrPpnFc"
      ],
      "toc_visible": true,
      "include_colab_link": true
    },
    "kernelspec": {
      "display_name": "Python 3",
      "name": "python3"
    },
    "language_info": {
      "name": "python"
    }
  },
  "cells": [
    {
      "cell_type": "markdown",
      "metadata": {
        "id": "view-in-github",
        "colab_type": "text"
      },
      "source": [
        "<a href=\"https://colab.research.google.com/github/idoFinder/Audio_Analysis_FFT_and_ML/blob/main/pipeline_1_fft_with_ML_classifiers_Ido.ipynb\" target=\"_parent\"><img src=\"https://colab.research.google.com/assets/colab-badge.svg\" alt=\"Open In Colab\"/></a>"
      ]
    },
    {
      "cell_type": "code",
      "metadata": {
        "id": "0rwPL4mfTouP"
      },
      "source": [
        "import pandas as pd\n",
        "import numpy as np\n",
        "import matplotlib.pyplot as plt\n",
        "import os\n",
        "import seaborn as sns\n",
        "import random\n",
        "import soundfile as sf \n",
        "from scipy.fft import fft, ifft\n",
        "from tempfile import TemporaryFile\n",
        "from sklearn.model_selection import train_test_split , StratifiedKFold, GridSearchCV\n",
        "import xgboost as xgb\n",
        "from sklearn.feature_selection import mutual_info_classif\n",
        "from sklearn.metrics import roc_auc_score\n",
        "from sklearn.metrics import confusion_matrix, multilabel_confusion_matrix, classification_report, accuracy_score\n",
        "from sklearn.preprocessing import StandardScaler, scale, LabelEncoder, MinMaxScaler\n",
        "from sklearn.linear_model import LogisticRegression\n",
        "from sklearn.ensemble import RandomForestClassifier\n",
        "from sklearn.neural_network import MLPClassifier\n",
        "from sklearn.svm import SVC"
      ],
      "execution_count": null,
      "outputs": []
    },
    {
      "cell_type": "code",
      "metadata": {
        "colab": {
          "base_uri": "https://localhost:8080/"
        },
        "id": "tptn4OFGSwVp",
        "outputId": "4ad25d0d-270e-4d12-f85d-32e8fd85cb70"
      },
      "source": [
        "from google.colab import drive\n",
        "drive.mount('/content/drive')"
      ],
      "execution_count": null,
      "outputs": [
        {
          "output_type": "stream",
          "text": [
            "Mounted at /content/drive\n"
          ],
          "name": "stdout"
        }
      ]
    },
    {
      "cell_type": "markdown",
      "metadata": {
        "id": "ilOh34q4Ts-l"
      },
      "source": [
        "# Ideas for pipelines:\n",
        "\n",
        "We decided to start with binary classification\n",
        "\n",
        "- Convert the raw signal into a more informative representations:\n",
        "-- Smooth fft ---> classic ML classifiers (LR, SVM, RF etc.)\n",
        "-- Extract multiple statistics out of the signals (ingoring the time dimantion) \n",
        "--> ML classifiers\n",
        "-- LSTM with raw signal's statistics (using sliding window)\n",
        "-- LSTM with fft: The input of each LSTM cell is a single frequency amplitude\n",
        "\n",
        "Imbalanced data metrices:\n",
        "- AUC, F1, TPR, MCC (highly correlated with F1)\n"
      ]
    },
    {
      "cell_type": "markdown",
      "metadata": {
        "id": "CyuWfVpIOPaE"
      },
      "source": [
        "# Pipeline 1 - Smooth fft with classic ML classifiers"
      ]
    },
    {
      "cell_type": "markdown",
      "metadata": {
        "id": "51Qi-bThOrkN"
      },
      "source": [
        "## Load labels and set raw data path\n"
      ]
    },
    {
      "cell_type": "code",
      "metadata": {
        "id": "wwjHwExhmPqE"
      },
      "source": [
        "labels_df = pd.read_csv('/content/drive/MyDrive/ML_2/main_project/labels_df.csv')\n",
        "records_path = '/content/drive/MyDrive/ML_2/main_project/relevant_train_seperated'\n",
        "records_file_names = os.listdir(records_path)\n",
        "print(len(records_file_names))"
      ],
      "execution_count": null,
      "outputs": []
    },
    {
      "cell_type": "code",
      "metadata": {
        "id": "medyN5SKnD_I"
      },
      "source": [
        "labels_df"
      ],
      "execution_count": null,
      "outputs": []
    },
    {
      "cell_type": "markdown",
      "metadata": {
        "id": "pYx_Jug4Zw1l"
      },
      "source": [
        "## Preprocess raw data"
      ]
    },
    {
      "cell_type": "markdown",
      "metadata": {
        "id": "XZSW5sfiZ4tX"
      },
      "source": [
        "### Functions"
      ]
    },
    {
      "cell_type": "code",
      "metadata": {
        "id": "D6nT2UHrPKlV"
      },
      "source": [
        "def calc_fft(raw_record):\n",
        "  N = len(raw_record) # Number of sample points\n",
        "  yf = fft(raw_record)\n",
        "  forier_y = 2.0/N * np.abs(yf[0:N//2]) # use only the positive side of y-axis\n",
        "  return forier_y\n",
        "\n",
        "# smoothing a sequential vector and reducing its dimentionality \n",
        "def sliding_window(x, window_size, stride, operation):  \n",
        "    a = np.array(x)\n",
        "    nrows = ((a.size-window_size)//stride)+1\n",
        "    n = a.strides[0]\n",
        "    bins = np.lib.stride_tricks.as_strided(a, shape=(nrows,window_size), strides=(stride*n,n))\n",
        "    if operation == 'mean':\n",
        "        return bins.mean(axis=1)\n",
        "    if operation == 'max':\n",
        "        return bins.max(axis=1)\n",
        "    if operation == 'min':\n",
        "        return bins.min(axis=1)\n",
        "    if operation == 'sum':\n",
        "        return bins.sum(axis=1)   \n",
        "\n",
        "def plot_signal(signal):\n",
        "  plt.figure(figsize=(8,4))\n",
        "  plt.title(f'Signal dim:{len(signal)}')\n",
        "  plt.plot(signal)\n",
        "\n",
        "\n",
        "def plot_signal_with_given_y_range(signal,y_range):\n",
        "  plt.figure(figsize=(8,4))\n",
        "  plt.ylim(y_range)\n",
        "  plt.title(f'Signal dim:{len(signal)}')\n",
        "  plt.plot(signal)\n"
      ],
      "execution_count": null,
      "outputs": []
    },
    {
      "cell_type": "markdown",
      "metadata": {
        "id": "VtcT7rsoZ8TQ"
      },
      "source": [
        "### Explore smoothing effect"
      ]
    },
    {
      "cell_type": "code",
      "metadata": {
        "id": "0bKgx0pgaAii"
      },
      "source": [
        "#### Set the sliding windows Params ####\n",
        "window_size = 2500\n",
        "stride = 500\n",
        "operation = 'mean'\n",
        "########################################"
      ],
      "execution_count": null,
      "outputs": []
    },
    {
      "cell_type": "code",
      "metadata": {
        "colab": {
          "base_uri": "https://localhost:8080/"
        },
        "id": "FBIp2rgLQiJw",
        "outputId": "f0b6133b-74a3-46ca-a77b-06455fc7962f"
      },
      "source": [
        "# load a single record\n",
        "record_1 = np.load(f'{records_path}/{records_file_names[1119]}')\n",
        "# apply fft\n",
        "record_1_fft = calc_fft(record_1)\n",
        "# record_1_fft = np.log(record_1_fft)\n",
        "\n",
        "y_min = min(record_1_fft)\n",
        "y_max = max(record_1_fft)\n",
        "# smooth the fft\n",
        "record_1_smooth_fft = sliding_window(record_1_fft,window_size, stride, operation)\n",
        "\n",
        "# plot the process\n",
        "plot_signal(record_1)\n",
        "plot_signal(record_1_fft)\n",
        "plot_signal(record_1_smooth_fft)\n",
        "# plot_signal_with_given_y_range(record_1_smooth_fft,[y_min,y_max])"
      ],
      "execution_count": null,
      "outputs": [
        {
          "output_type": "display_data",
          "data": {
            "image/png": "[encoded data removed]",
            "text/plain": [
              "<Figure size 576x288 with 1 Axes>"
            ]
          },
          "metadata": {
            "tags": [],
            "needs_background": "light"
          }
        },
        {
          "output_type": "display_data",
          "data": {
            "image/png": "[encoded data removed]",
            "text/plain": [
              "<Figure size 576x288 with 1 Axes>"
            ]
          },
          "metadata": {
            "tags": [],
            "needs_background": "light"
          }
        },
        {
          "output_type": "display_data",
          "data": {
            "image/png": "[encoded data removed]",
            "text/plain": [
              "<Figure size 576x288 with 1 Axes>"
            ]
          },
          "metadata": {
            "tags": [],
            "needs_background": "light"
          }
        }
      ]
    },
    {
      "cell_type": "code",
      "metadata": {
        "colab": {
          "base_uri": "https://localhost:8080/",
          "height": 293
        },
        "id": "FS-uVMgmWmBV",
        "outputId": "abd84b98-48c4-47c3-bbe3-66f44ce34e1c"
      },
      "source": [
        "# FFT per window\n",
        "import scipy.io as sio\n",
        "from scipy.signal import welch, hann\n",
        "from scipy.fft import fft, ifft\n",
        "\n",
        "\n",
        "fs = 48000\n",
        "nblock = 500\n",
        "overlap = nblock*0.5\n",
        "win = hann(nblock)\n",
        "\n",
        "X = record_1\n",
        "f, X = welch(X, fs, window=win, noverlap=overlap, nfft=nblock, return_onesided=True,detrend=False)\n",
        "plt.plot(X)\n",
        "# plot_signal_with_given_y_range(X,[y_min,y_max])"
      ],
      "execution_count": null,
      "outputs": [
        {
          "output_type": "execute_result",
          "data": {
            "text/plain": [
              "[<matplotlib.lines.Line2D at 0x7febc545e390>]"
            ]
          },
          "metadata": {
            "tags": []
          },
          "execution_count": 76
        },
        {
          "output_type": "display_data",
          "data": {
            "image/png": "[encoded data removed]",
            "text/plain": [
              "<Figure size 432x288 with 1 Axes>"
            ]
          },
          "metadata": {
            "tags": []
          }
        }
      ]
    },
    {
      "cell_type": "markdown",
      "metadata": {
        "id": "gL1vbfCoaufz"
      },
      "source": [
        "### Generate fft dataframe in batches"
      ]
    },
    {
      "cell_type": "code",
      "metadata": {
        "id": "Dk_pTNR3asp-"
      },
      "source": [
        "# handle crashing due to RAM issues\n",
        "num_of_batches = 5\n",
        "batch_size = round(len(records_file_names) / num_of_batches)\n",
        "\n",
        "for batch in range(num_of_batches):\n",
        "  # we create a dataframe to store the smoothed fft together with theirs lables\n",
        "  data_df = pd.DataFrame(columns=['record_id','fft','label'])\n",
        "  records_to_add = []\n",
        "\n",
        "  print('Working on batch', batch + 1)\n",
        "  batch_files = records_file_names[batch*batch_size:batch*batch_size + batch_size]\n",
        "\n",
        "  for idx, file_name in enumerate(batch_files):\n",
        "    record_id = file_name.split('.')[0]\n",
        "    raw_record = np.load(f'{records_path}/{file_name}')\n",
        "    # apply fft\n",
        "    record_fft = calc_fft(raw_record)\n",
        "    record_label = labels_df[labels_df['sample_id']==record_id].label.values[0]\n",
        "    new_record = {'record_id':record_id, 'fft':record_fft, 'label':record_label}\n",
        "    records_to_add.append(new_record)\n",
        "\n",
        "    if idx%50 == 0:\n",
        "      print(f'- Finished {idx}/{len(batch_files)}')\n",
        "\n",
        "  data_df = data_df.append(records_to_add, ignore_index=True)\n",
        "  save_path = '/content/drive/MyDrive/ML_2/main_project/proccesed_data_in_df'\n",
        "  data_df.to_parquet(f'{save_path}/train_data_fft_batch_{batch + 1}.parquet', index=False)\n",
        "  # data_df.to_pickle(f'{save_path}/train_data_fft_batch_{batch + 1}.pkl')\n",
        "\n",
        "  del records_to_add\n",
        "  del data_df"
      ],
      "execution_count": null,
      "outputs": []
    },
    {
      "cell_type": "markdown",
      "metadata": {
        "id": "wSrEMiy9zIkq"
      },
      "source": [
        "### Generate smooth fft in single dataframe "
      ]
    },
    {
      "cell_type": "code",
      "metadata": {
        "id": "atPLEnHinDf5"
      },
      "source": [
        "data_path = '/content/drive/MyDrive/ML_2/main_project/proccesed_data_in_df/fft_data_in_batches'\n",
        "\n",
        "# smoothing params\n",
        "window_size = 100\n",
        "stride = 100\n",
        "operation = 'max'\n",
        "\n",
        "data_smooth_df_records = []\n",
        "for batch_idx, batch in enumerate(os.listdir(data_path)):\n",
        "  print(f'loading batch {batch_idx+1}')\n",
        "  fft_data = pd.read_parquet(f'{data_path}/{batch}')\n",
        "\n",
        "  for row_idx in range(fft_data.shape[0]):\n",
        "    curr_row = fft_data.iloc[row_idx]\n",
        "    smooth_fft = sliding_window(curr_row.fft, window_size, stride, operation)\n",
        "\n",
        "    curr_record = {'record_id':curr_row.record_id,\n",
        "                   'smooth_fft':smooth_fft,\n",
        "                   'label':curr_row.label}\n",
        "\n",
        "    data_smooth_df_records.append(curr_record)\n",
        "    if row_idx%100 == 0:\n",
        "      print(f' - {row_idx+1}/{fft_data.shape[0]}')\n",
        "    \n",
        "  del fft_data\n",
        "\n",
        "print(f'Finished -- total of {len(data_smooth_df_records)} records')\n",
        "\n",
        "# save dataframe\n",
        "data_smooth_df = pd.DataFrame(data_smooth_df_records)\n",
        "save_path = '/content/drive/MyDrive/ML_2/main_project/proccesed_data_in_df/smooth_fft_df'\n",
        "data_smooth_df.to_parquet(f'{save_path}/smooth_fft_winsize_{window_size}_stride_{stride}_op_{operation}.parquet', index=False)\n",
        "data_smooth_df.shape"
      ],
      "execution_count": null,
      "outputs": []
    },
    {
      "cell_type": "markdown",
      "metadata": {
        "id": "hWSTkmbiHFmC"
      },
      "source": [
        "# Modeling"
      ]
    },
    {
      "cell_type": "markdown",
      "metadata": {
        "id": "3OQ10AgXdeu-"
      },
      "source": [
        "### Functions\n",
        "\n"
      ]
    },
    {
      "cell_type": "code",
      "metadata": {
        "id": "AJOHlrzR4UGb"
      },
      "source": [
        "## Functions\n",
        "def calc_metrics(conf_matrix, Y_proba, Y_test):\n",
        "    AUC = roc_auc_score(Y_test, Y_proba)\n",
        "\n",
        "    TP = conf_matrix[1][1]\n",
        "    TN = conf_matrix[0][0]\n",
        "    FP = conf_matrix[0][1]\n",
        "    FN = conf_matrix[1][0]\n",
        "\n",
        "    TPR = TP / (TP + FN)  # recall\n",
        "    FPR = FP / (FP + TN)\n",
        "    ACC = (TP + TN) / (TP + TN + FP + FN)\n",
        "    Precision = TP / (TP + FP)\n",
        "    F1_score = 2 * ((Precision * TPR) / (Precision + TPR))\n",
        "\n",
        "    metrics_dict = {\n",
        "        'TPR': round(TPR, 2),\n",
        "        'FPR': round(FPR, 2),\n",
        "        'ACC': round(ACC, 2),\n",
        "        'Precision': round(Precision, 2),\n",
        "        'F1_score': round(F1_score, 2),\n",
        "        'AUC': round(AUC, 4),\n",
        "    }\n",
        "\n",
        "    return metrics_dict\n",
        "\n",
        "\n",
        "def get_predictions(Y_proba, threshold):\n",
        "    Y_pred_final = []\n",
        "    for p in Y_proba:\n",
        "        if p > threshold:\n",
        "            Y_pred_final.append(1)\n",
        "        else:\n",
        "            Y_pred_final.append(0)\n",
        "\n",
        "    return Y_pred_final\n",
        "\n",
        "\n",
        "def get_predictions_multiclass(Y_proba):\n",
        "  Y_pred_final = []\n",
        "  for p in Y_proba:\n",
        "    pred = np.argmax(p)\n",
        "    Y_pred_final.append(pred)\n",
        "  return Y_pred_final\n",
        "\n",
        "\n",
        "def get_features_IG(X,y):\n",
        "\n",
        "  features_indxes = [f'col_{i}' for i in range(X.shape[1])]\n",
        "  mut_info_score = mutual_info_classif(X, y)\n",
        "\n",
        "  feature_importance_df = pd.DataFrame(columns=['feature', 'importance'])\n",
        "  for idx, imp in enumerate(mut_info_score):\n",
        "      new_record = {\n",
        "          'feature': features_indxes[idx],\n",
        "          'importance': imp\n",
        "      }\n",
        "\n",
        "      feature_importance_df = feature_importance_df.append(new_record, ignore_index=True)\n",
        "\n",
        "  feature_importance_df = feature_importance_df.sort_values(['importance'], ascending=False)\n",
        "\n",
        "  return feature_importance_df\n",
        "\n",
        "\n",
        "def creatMat(y_true,y_pred,title):\n",
        "  a = np.zeros([24,24])\n",
        "  for j in range(len(y_true)):\n",
        "    a[y_true[j]-1][y_pred[j]-1] += 1\n",
        "  \n",
        "  sns.heatmap(a)\n",
        "  plt.xticks(ticks = [i for i in range(24)] ,labels = [i for i in range(1,25)],rotation = 70)\n",
        "  plt.yticks(ticks = [i for i in range(0,24,2)] ,labels = [i for i in range(1,25,2)])\n",
        "\n",
        "  plt.xlabel('True')\n",
        "  plt.ylabel('Pred')\n",
        "  plt.title(title)\n"
      ],
      "execution_count": null,
      "outputs": []
    },
    {
      "cell_type": "markdown",
      "metadata": {
        "id": "LdDr9mWKHfnE"
      },
      "source": [
        "### Prepare data for classic ML models"
      ]
    },
    {
      "cell_type": "code",
      "metadata": {
        "id": "RKxrigumhbHW"
      },
      "source": [
        "def load_data_for_multicalss(winsize,stride,op, show_barplot):\n",
        "  df_to_load = f'smooth_fft_winsize_{winsize}_stride_{stride}_op_{op}.parquet'\n",
        "  data_smooth_df = pd.read_parquet(f'/content/drive/MyDrive/ML_2/main_project/proccesed_data_in_df/smooth_fft_df/{df_to_load}')\n",
        "\n",
        "  ### init the ML dataframe with the features columns first\n",
        "  columns = [f'f_{i}' for i in range(len(data_smooth_df.iloc[0].smooth_fft))]\n",
        "  ML_data = pd.DataFrame(columns=columns)\n",
        "\n",
        "  ### populate the df with the smooth fft as features\n",
        "  df_records_to_add = []\n",
        "  for row_index in range(data_smooth_df.shape[0]):\n",
        "    curr_vec = data_smooth_df.iloc[row_index].smooth_fft\n",
        "    curr_df_row = pd.DataFrame(curr_vec.reshape(-1, len(curr_vec)), columns=columns)\n",
        "    df_records_to_add.append(curr_df_row)\n",
        "\n",
        "  ML_data = ML_data.append(df_records_to_add, ignore_index=True)\n",
        "\n",
        "  ### add the id and the label columns\n",
        "  ML_data.insert(0, 'record_id', data_smooth_df['record_id'])\n",
        "  ML_data['label'] = data_smooth_df['label']\n",
        "  pd.set_option('display.max_columns', 8)\n",
        "\n",
        "  ### convert to multiclass \n",
        "  ML_data = ML_data[ML_data['label']>0]\n",
        "  if show_barplot:\n",
        "    ML_data.groupby(['label']).count()['f_1'].plot.bar(rot=0,grid=True)\n",
        "    plt.title(f'Total of {ML_data.shape[0]} samples | feature dim: {ML_data.shape[1]-2}')\n",
        "    plt.show()\n",
        "\n",
        "  return df_to_load, ML_data"
      ],
      "execution_count": null,
      "outputs": []
    },
    {
      "cell_type": "code",
      "metadata": {
        "colab": {
          "base_uri": "https://localhost:8080/",
          "height": 312
        },
        "id": "ADM6L-yOhtNO",
        "outputId": "9f56ea48-3627-4d92-ed2d-60b3b77cda0e"
      },
      "source": [
        "### Load smooth fft dataframe\n",
        "winsize = 100\n",
        "stride = 100\n",
        "op = 'max'\n",
        "\n",
        "df_to_load, ML_data = load_data_for_multicalss(winsize,stride,op, show_barplot=True)\n",
        "ML_data.shape"
      ],
      "execution_count": null,
      "outputs": [
        {
          "output_type": "display_data",
          "data": {
            "image/png": "[encoded data removed]",
            "text/plain": [
              "<Figure size 432x288 with 1 Axes>"
            ]
          },
          "metadata": {
            "tags": [],
            "needs_background": "light"
          }
        },
        {
          "output_type": "execute_result",
          "data": {
            "text/plain": [
              "(1436, 2402)"
            ]
          },
          "metadata": {
            "tags": []
          },
          "execution_count": 7
        }
      ]
    },
    {
      "cell_type": "markdown",
      "metadata": {
        "id": "YwN36YlDQbTd"
      },
      "source": [
        "#### Convert to binary classification / multiclass"
      ]
    },
    {
      "cell_type": "markdown",
      "metadata": {
        "id": "j9T5dUuQPwUH"
      },
      "source": [
        "### Split into train and test"
      ]
    },
    {
      "cell_type": "code",
      "metadata": {
        "id": "Qaz1ZwhRPpGb"
      },
      "source": [
        "train_data, test_data = train_test_split(ML_data, test_size=0.15, stratify=ML_data['label'] ,random_state=10)"
      ],
      "execution_count": null,
      "outputs": []
    },
    {
      "cell_type": "markdown",
      "metadata": {
        "id": "5Ohbj5Dby11P"
      },
      "source": [
        "### Hyper-parameter tuning"
      ]
    },
    {
      "cell_type": "markdown",
      "metadata": {
        "id": "T5QbMwQ8y_JJ"
      },
      "source": [
        "#### Random Forest\n"
      ]
    },
    {
      "cell_type": "code",
      "metadata": {
        "id": "shE89__FSl02"
      },
      "source": [
        "\n",
        "numpy_dataset = train_data.values\n",
        "# X- only features columns | Y- only class column\n",
        "X, y = numpy_dataset[:, 1:-1], numpy_dataset[:, -1]\n",
        "# encode the labels \n",
        "le = LabelEncoder()\n",
        "y = le.fit_transform(y)\n",
        "\n",
        "# set running parameters\n",
        "to_normalize = False\n",
        "normalize_by_feature = False\n",
        "\n",
        "\n",
        "if to_normalize:\n",
        "  # choose scaler\n",
        "  scaler = StandardScaler()\n",
        "  # scaler = MinMaxScaler()\n",
        "\n",
        "  if normalize_by_feature:\n",
        "    # scaling each feature\n",
        "    X = scaler.fit_transform(X)\n",
        "  else:\n",
        "    # scaling each row\n",
        "    X = scaler.fit_transform(X.T).T\n",
        "\n",
        "\n",
        "param_grid = {\n",
        "    'max_depth': [5,10,20,30,40],\n",
        "    'max_features': ['sqrt','log2'],\n",
        "    'n_estimators': [200,400,600,700],\n",
        "}\n",
        "\n",
        "rf = RandomForestClassifier(random_state=10)\n",
        "\n",
        "grid_search = GridSearchCV(estimator = rf, param_grid = param_grid, \n",
        "                          cv = 5, n_jobs = -1, verbose = 3, return_train_score=True)\n",
        "\n",
        "# Fit the grid search to the data\n",
        "grid_search.fit(X, y)\n",
        "print(grid_search.best_params_)\n",
        "\n",
        "# save tunning results (for visualizations purposes)\n",
        "results_df_cols = ['param_max_depth','param_max_features','param_n_estimators','mean_train_score','std_train_score','mean_test_score','std_test_score']\n",
        "grid_results = pd.DataFrame(grid_search.cv_results_).sort_values(['mean_test_score'], ascending=False)[results_df_cols].reset_index(drop=True)\n",
        "snooth_df_name = df_to_load.split('.')[0]\n",
        "grid_results.to_csv(f'/content/drive/MyDrive/ML_2/main_project/Tuning_results/FFT_pipeline_RF/{snooth_df_name}_CV.csv',index=False)\n",
        "grid_results.head(3)"
      ],
      "execution_count": null,
      "outputs": []
    },
    {
      "cell_type": "markdown",
      "metadata": {
        "id": "EjHKsbBMVerF"
      },
      "source": [
        "#### SVM"
      ]
    },
    {
      "cell_type": "code",
      "metadata": {
        "colab": {
          "base_uri": "https://localhost:8080/",
          "height": 227
        },
        "id": "P9qatkAaVeUq",
        "outputId": "abd1fabe-bc7d-42c0-eb6a-ec4c176df626"
      },
      "source": [
        "#### SVM\n",
        "numpy_dataset = train_data.values\n",
        "# X- only features columns | Y- only class column\n",
        "X, y = numpy_dataset[:, 1:-1], numpy_dataset[:, -1]\n",
        "# encode the labels \n",
        "le = LabelEncoder()\n",
        "y = le.fit_transform(y)\n",
        "\n",
        "# set running parameters\n",
        "to_normalize = True\n",
        "normalize_by_feature = False\n",
        "scaler_type = 'MinMax'\n",
        "# scaler_type = 'Standart'\n",
        "\n",
        "if to_normalize:\n",
        "  # choose scaler\n",
        "  if scaler_type == 'Standart':\n",
        "    scaler = StandardScaler()\n",
        "  elif scaler_type == 'MinMax':\n",
        "    scaler = MinMaxScaler()\n",
        "\n",
        "  if normalize_by_feature:\n",
        "    # scaling each feature\n",
        "    X = scaler.fit_transform(X)\n",
        "  else:\n",
        "    # scaling each row\n",
        "    X = scaler.fit_transform(X.T).T\n",
        "\n",
        "\n",
        "param_grid = {\n",
        "  'kernel': ['linear', 'poly','rbf','sigmoid'],\n",
        "  'C': [1,3,5,7],\n",
        "  'gamma': ['scale','auto'],\n",
        "}\n",
        "\n",
        "svm = SVC(decision_function_shape='ovr', probability=False, random_state=10)\n",
        "grid_search = GridSearchCV(estimator = svm, param_grid = param_grid, \n",
        "                          cv = 5, n_jobs = -1, verbose = 3, return_train_score=True)\n",
        "\n",
        "# Fit the grid search to the data\n",
        "grid_search.fit(X, y)\n",
        "print(grid_search.best_params_)\n",
        "\n",
        "# save tunning results (for visualizations purposes)\n",
        "results_df_cols = ['param_kernel','param_C','param_gamma','mean_train_score','std_train_score','mean_test_score','std_test_score']\n",
        "grid_results = pd.DataFrame(grid_search.cv_results_).sort_values(['mean_test_score'], ascending=False)[results_df_cols].reset_index(drop=True)\n",
        "snooth_df_name = df_to_load.split('.')[0]\n",
        "grid_results.to_csv(f'/content/drive/MyDrive/ML_2/main_project/Tuning_results/FFT_pipeline_SVM/{snooth_df_name}_scale_{to_normalize}_type_{scaler_type}_colWise_{normalize_by_feature}_CV.csv',index=False)\n",
        "grid_results.head(3)"
      ],
      "execution_count": null,
      "outputs": [
        {
          "output_type": "stream",
          "text": [
            "Fitting 5 folds for each of 24 candidates, totalling 120 fits\n"
          ],
          "name": "stdout"
        },
        {
          "output_type": "stream",
          "text": [
            "[Parallel(n_jobs=-1)]: Using backend LokyBackend with 2 concurrent workers.\n",
            "[Parallel(n_jobs=-1)]: Done  28 tasks      | elapsed:    8.6s\n",
            "[Parallel(n_jobs=-1)]: Done 120 out of 120 | elapsed:   33.7s finished\n"
          ],
          "name": "stderr"
        },
        {
          "output_type": "stream",
          "text": [
            "{'C': 5, 'gamma': 'scale', 'kernel': 'rbf'}\n"
          ],
          "name": "stdout"
        },
        {
          "output_type": "execute_result",
          "data": {
            "text/html": [
              "<div>\n",
              "<style scoped>\n",
              "    .dataframe tbody tr th:only-of-type {\n",
              "        vertical-align: middle;\n",
              "    }\n",
              "\n",
              "    .dataframe tbody tr th {\n",
              "        vertical-align: top;\n",
              "    }\n",
              "\n",
              "    .dataframe thead th {\n",
              "        text-align: right;\n",
              "    }\n",
              "</style>\n",
              "<table border=\"1\" class=\"dataframe\">\n",
              "  <thead>\n",
              "    <tr style=\"text-align: right;\">\n",
              "      <th></th>\n",
              "      <th>param_kernel</th>\n",
              "      <th>param_C</th>\n",
              "      <th>param_gamma</th>\n",
              "      <th>mean_train_score</th>\n",
              "      <th>std_train_score</th>\n",
              "      <th>mean_test_score</th>\n",
              "      <th>std_test_score</th>\n",
              "    </tr>\n",
              "  </thead>\n",
              "  <tbody>\n",
              "    <tr>\n",
              "      <th>0</th>\n",
              "      <td>rbf</td>\n",
              "      <td>5</td>\n",
              "      <td>scale</td>\n",
              "      <td>0.786885</td>\n",
              "      <td>0.006079</td>\n",
              "      <td>0.444262</td>\n",
              "      <td>0.020994</td>\n",
              "    </tr>\n",
              "    <tr>\n",
              "      <th>1</th>\n",
              "      <td>linear</td>\n",
              "      <td>5</td>\n",
              "      <td>auto</td>\n",
              "      <td>0.717828</td>\n",
              "      <td>0.008993</td>\n",
              "      <td>0.427869</td>\n",
              "      <td>0.021311</td>\n",
              "    </tr>\n",
              "    <tr>\n",
              "      <th>2</th>\n",
              "      <td>linear</td>\n",
              "      <td>5</td>\n",
              "      <td>scale</td>\n",
              "      <td>0.717828</td>\n",
              "      <td>0.008993</td>\n",
              "      <td>0.427869</td>\n",
              "      <td>0.021311</td>\n",
              "    </tr>\n",
              "  </tbody>\n",
              "</table>\n",
              "</div>"
            ],
            "text/plain": [
              "  param_kernel param_C param_gamma  mean_train_score  std_train_score  \\\n",
              "0          rbf       5       scale          0.786885         0.006079   \n",
              "1       linear       5        auto          0.717828         0.008993   \n",
              "2       linear       5       scale          0.717828         0.008993   \n",
              "\n",
              "   mean_test_score  std_test_score  \n",
              "0         0.444262        0.020994  \n",
              "1         0.427869        0.021311  \n",
              "2         0.427869        0.021311  "
            ]
          },
          "metadata": {
            "tags": []
          },
          "execution_count": 142
        }
      ]
    },
    {
      "cell_type": "markdown",
      "metadata": {
        "id": "rI90iGA3-C46"
      },
      "source": [
        "##### Explore CV results of SVC to choose the optimal dataset"
      ]
    },
    {
      "cell_type": "code",
      "metadata": {
        "colab": {
          "base_uri": "https://localhost:8080/"
        },
        "id": "xxxyIvWY95Ok",
        "outputId": "0fcaad98-56d4-4856-e7e5-00edb06ffd9a"
      },
      "source": [
        "final_CV_results = pd.DataFrame(columns=['dataset','kernel','C','gamma','train_ACC','test_ACC'])\n",
        "\n",
        "path = '/content/drive/MyDrive/ML_2/main_project/Tuning_results/FFT_pipeline_SVM'\n",
        "for res_file in os.listdir(path):\n",
        "  curr_res = pd.read_csv(f'{path}/{res_file}')\n",
        "  new_record = {'dataset':res_file.split('.')[0],\n",
        "                'kernel':curr_res.iloc[0]['param_kernel'],\n",
        "                'C':curr_res.iloc[0]['param_C'],\n",
        "                'gamma':curr_res.iloc[0]['param_gamma'],\n",
        "                'train_ACC':curr_res.iloc[0]['mean_train_score'],\n",
        "                'test_ACC':curr_res.iloc[0]['mean_test_score']}\n",
        "\n",
        "  final_CV_results = final_CV_results.append(new_record,ignore_index=True).sort_values(['test_ACC'], ascending=False).reset_index(drop=True)\n",
        "    \n",
        "print(final_CV_results.iloc[0]['dataset'])\n",
        "final_CV_results.iloc[0]"
      ],
      "execution_count": null,
      "outputs": [
        {
          "output_type": "stream",
          "text": [
            "smooth_fft_winsize_100_stride_500_op_max_scale_True_type_MinMax_colWise_False_CV\n"
          ],
          "name": "stdout"
        },
        {
          "output_type": "execute_result",
          "data": {
            "text/plain": [
              "dataset      smooth_fft_winsize_100_stride_500_op_max_scale...\n",
              "kernel                                                     rbf\n",
              "C                                                            5\n",
              "gamma                                                    scale\n",
              "train_ACC                                             0.908402\n",
              "test_ACC                                              0.495082\n",
              "Name: 0, dtype: object"
            ]
          },
          "metadata": {
            "tags": []
          },
          "execution_count": 189
        }
      ]
    },
    {
      "cell_type": "markdown",
      "metadata": {
        "id": "7_lQkf-r97hr"
      },
      "source": [
        "##### Evaluate SVM on test set"
      ]
    },
    {
      "cell_type": "code",
      "metadata": {
        "colab": {
          "base_uri": "https://localhost:8080/"
        },
        "id": "dYvL5uev0v01",
        "outputId": "bbc0fefe-746c-4422-dda6-127414a06416"
      },
      "source": [
        "# load tunning results csv\n",
        "to_normalize = True\n",
        "normalize_by_feature = False\n",
        "scaler_type = 'MinMax'\n",
        "# scaler_type = 'Standart'\n",
        "\n",
        "dataset = f'smooth_fft_winsize_{winsize}_stride_{stride}_op_{op}'\n",
        "results_name = f'{dataset}_scale_{to_normalize}_type_{scaler_type}_colWise_{normalize_by_feature}_CV'\n",
        "tunning_results = pd.read_csv(f'/content/drive/MyDrive/ML_2/main_project/Tuning_results/FFT_pipeline_SVM/{results_name}.csv')\n",
        "tunning_results.iloc[0]"
      ],
      "execution_count": null,
      "outputs": [
        {
          "output_type": "execute_result",
          "data": {
            "text/plain": [
              "param_kernel               rbf\n",
              "param_C                      5\n",
              "param_gamma              scale\n",
              "mean_train_score      0.908402\n",
              "std_train_score     0.00460952\n",
              "mean_test_score       0.495082\n",
              "std_test_score       0.0178455\n",
              "Name: 0, dtype: object"
            ]
          },
          "metadata": {
            "tags": []
          },
          "execution_count": 194
        }
      ]
    },
    {
      "cell_type": "code",
      "metadata": {
        "colab": {
          "base_uri": "https://localhost:8080/"
        },
        "id": "jNhZvnZz0xTI",
        "outputId": "dcb4522a-fa83-40d8-c869-0a036bd22e98"
      },
      "source": [
        "# Evaluate on test set\n",
        "\n",
        "print(f'Smooth FFT: {results_name} --|-- Dim: {train_data.shape[1]-2}')\n",
        "\n",
        "numpy_dataset = train_data.values\n",
        "# X- only features columns | Y- only class column\n",
        "X, y = numpy_dataset[:, 1:-1], numpy_dataset[:, -1]\n",
        "# encode the labels \n",
        "le = LabelEncoder()\n",
        "y = le.fit_transform(y)\n",
        "\n",
        "if to_normalize:\n",
        "  if scaler_type == 'Standart':\n",
        "    scaler = StandardScaler()\n",
        "  elif scaler_type == 'MinMax':\n",
        "    scaler = MinMaxScaler()\n",
        "\n",
        "  if normalize_by_feature:\n",
        "    # scaling each feature\n",
        "    X = scaler.fit_transform(X)\n",
        "  else:\n",
        "    # scaling each row\n",
        "    X = scaler.fit_transform(X.T).T\n",
        "\n",
        "kernel_val = tunning_results.iloc[0]['param_kernel']\n",
        "C_val = tunning_results.iloc[0]['param_C']\n",
        "gamma_val = tunning_results.iloc[0]['param_gamma']\n",
        "\n",
        "svc = SVC(kernel=kernel_val,C=C_val,gamma=gamma_val,decision_function_shape='ovr', probability=False, random_state=10)\n",
        "svc.fit(X,y)\n",
        "\n",
        "train_preds = svc.predict(X)\n",
        "\n",
        "train_report = classification_report(y, train_preds, output_dict=True)\n",
        "print('Train')\n",
        "print(f'Accuracy:{round(train_report[\"accuracy\"],3)} | F1:{round(train_report[\"macro avg\"][\"f1-score\"],3)} | Recall:{round(train_report[\"macro avg\"][\"recall\"],3)} | Precision:{round(train_report[\"macro avg\"][\"precision\"],3)}')\n",
        "\n",
        "## evaluate best configuration on the test set\n",
        "numpy_dataset = test_data.values\n",
        "# X- only features columns | Y- only class column\n",
        "X_test, Y_test = numpy_dataset[:, 1:-1], numpy_dataset[:, -1]\n",
        "Y_test = le.transform(Y_test)\n",
        "\n",
        "\n",
        "if to_normalize:\n",
        "  if normalize_by_feature:\n",
        "    # scaling each feature\n",
        "    X_test = scaler.transform(X_test)\n",
        "  else:\n",
        "    # scaling each row\n",
        "    X_test = scaler.fit_transform(X_test.T).T\n",
        "\n",
        "test_preds= svc.predict(X_test)\n",
        "\n",
        "test_report = classification_report(Y_test, test_preds, output_dict=True)\n",
        "print('Test')\n",
        "print(f'Accuracy:{round(test_report[\"accuracy\"],3)} | F1:{round(test_report[\"macro avg\"][\"f1-score\"],3)} | Recall:{round(test_report[\"macro avg\"][\"recall\"],3)} | Precision:{round(test_report[\"macro avg\"][\"precision\"],3)}')\n"
      ],
      "execution_count": null,
      "outputs": [
        {
          "output_type": "stream",
          "text": [
            "Smooth FFT: smooth_fft_winsize_100_stride_500_op_max_scale_True_type_MinMax_colWise_False_CV --|-- Dim: 480\n",
            "Train\n",
            "Accuracy:0.904 | F1:0.911 | Recall:0.898 | Precision:0.93\n",
            "Test\n",
            "Accuracy:0.551 | F1:0.519 | Recall:0.522 | Precision:0.539\n"
          ],
          "name": "stdout"
        },
        {
          "output_type": "stream",
          "text": [
            "/usr/local/lib/python3.7/dist-packages/sklearn/metrics/_classification.py:1272: UndefinedMetricWarning: Precision and F-score are ill-defined and being set to 0.0 in labels with no predicted samples. Use `zero_division` parameter to control this behavior.\n",
            "  _warn_prf(average, modifier, msg_start, len(result))\n"
          ],
          "name": "stderr"
        }
      ]
    },
    {
      "cell_type": "markdown",
      "metadata": {
        "id": "ycIeNR3KIoyB"
      },
      "source": [
        "#### MLP - sklearn"
      ]
    },
    {
      "cell_type": "code",
      "metadata": {
        "colab": {
          "background_save": true,
          "base_uri": "https://localhost:8080/"
        },
        "id": "3vO7IY1IIn_h",
        "outputId": "b92a2d9f-1be7-4d62-a724-77ba51de20c6"
      },
      "source": [
        "#### MLP\n",
        "numpy_dataset = train_data.values\n",
        "# X- only features columns | Y- only class column\n",
        "X, y = numpy_dataset[:, 1:-1], numpy_dataset[:, -1]\n",
        "# encode the labels \n",
        "le = LabelEncoder()\n",
        "y = le.fit_transform(y)\n",
        "\n",
        "# set running parameters\n",
        "to_normalize = True\n",
        "normalize_by_feature = True\n",
        "# scaler_type = 'MinMax'\n",
        "scaler_type = 'Standart'\n",
        "\n",
        "if to_normalize:\n",
        "  # choose scaler\n",
        "  if scaler_type == 'Standart':\n",
        "    scaler = StandardScaler()\n",
        "  elif scaler_type == 'MinMax':\n",
        "    scaler = MinMaxScaler()\n",
        "\n",
        "  if normalize_by_feature:\n",
        "    # scaling each feature\n",
        "    X = scaler.fit_transform(X)\n",
        "  else:\n",
        "    # scaling each row\n",
        "    X = scaler.fit_transform(X.T).T\n",
        "\n",
        "param_grid = {\n",
        "  'hidden_layer_sizes': [(3000,3000), (1500,1500),(2500,2500),(3000)],\n",
        "  'activation': ['relu'],\n",
        "  'solver': ['sgd'],\n",
        "  'learning_rate_init':[0.002, 0.02, 0.2],\n",
        "  'max_iter': [100],\n",
        "  'momentum': [0.1,0.6, 1],\n",
        "}\n",
        "\n",
        "mlp = MLPClassifier(random_state=10)\n",
        "grid_search = GridSearchCV(estimator = mlp, param_grid = param_grid, \n",
        "                          cv = 5, n_jobs = 1, verbose = 3, return_train_score=True)\n",
        "\n",
        "# Fit the grid search object to the data\n",
        "grid_search.fit(X, y)\n",
        "print(grid_search.best_params_)\n",
        "\n",
        "# save tunning results (for visualizations purposes)\n",
        "results_df_cols = ['param_hidden_layer_sizes','param_activation','param_solver','param_learning_rate_init','param_momentum','mean_train_score','std_train_score','mean_test_score','std_test_score']\n",
        "grid_results = pd.DataFrame(grid_search.cv_results_).sort_values(['mean_test_score'], ascending=False)[results_df_cols].reset_index(drop=True)\n",
        "snooth_df_name = df_to_load.split('.')[0]\n",
        "csv_full_name = f'{snooth_df_name}_scale_{to_normalize}_type_{scaler_type}_colWise_{normalize_by_feature}_CV.csv'\n",
        "\n",
        "if csv_full_name in os.listdir('/content/drive/MyDrive/ML_2/main_project/Tuning_results/FFT_pipeline_MLP_sklearn'):\n",
        "  print('updating exist csv')\n",
        "  exist_csv = pd.read_csv(f'/content/drive/MyDrive/ML_2/main_project/Tuning_results/FFT_pipeline_MLP_sklearn/{csv_full_name}')\n",
        "  exist_csv = exist_csv.append(grid_results, ignore_index=True)\n",
        "  exist_csv = exist_csv.sort_values(['mean_test_score'], ascending=False).reset_index(drop=True)\n",
        "  exist_csv.to_csv(f'/content/drive/MyDrive/ML_2/main_project/Tuning_results/FFT_pipeline_MLP_sklearn/{csv_full_name}',index=False)\n",
        "  print(exist_csv.head(5))\n",
        "else:\n",
        "  print('creating new csv')\n",
        "  grid_results.to_csv(f'/content/drive/MyDrive/ML_2/main_project/Tuning_results/FFT_pipeline_MLP_sklearn/{csv_full_name}',index=False)\n",
        "  print(grid_results.head(5))"
      ],
      "execution_count": null,
      "outputs": [
        {
          "output_type": "stream",
          "text": [
            "Fitting 5 folds for each of 1 candidates, totalling 5 fits\n",
            "[CV] activation=relu, hidden_layer_sizes=(3000, 3000), learning_rate_init=0.03, max_iter=100, momentum=0.6, solver=sgd \n"
          ],
          "name": "stdout"
        },
        {
          "output_type": "stream",
          "text": [
            "[Parallel(n_jobs=1)]: Using backend SequentialBackend with 1 concurrent workers.\n",
            "/usr/local/lib/python3.7/dist-packages/sklearn/neural_network/_multilayer_perceptron.py:571: ConvergenceWarning: Stochastic Optimizer: Maximum iterations (100) reached and the optimization hasn't converged yet.\n",
            "  % self.max_iter, ConvergenceWarning)\n"
          ],
          "name": "stderr"
        },
        {
          "output_type": "stream",
          "text": [
            "[CV]  activation=relu, hidden_layer_sizes=(3000, 3000), learning_rate_init=0.03, max_iter=100, momentum=0.6, solver=sgd, score=(train=0.994, test=0.516), total= 5.2min\n",
            "[CV] activation=relu, hidden_layer_sizes=(3000, 3000), learning_rate_init=0.03, max_iter=100, momentum=0.6, solver=sgd \n"
          ],
          "name": "stdout"
        },
        {
          "output_type": "stream",
          "text": [
            "[Parallel(n_jobs=1)]: Done   1 out of   1 | elapsed:  5.2min remaining:    0.0s\n",
            "/usr/local/lib/python3.7/dist-packages/sklearn/neural_network/_multilayer_perceptron.py:571: ConvergenceWarning: Stochastic Optimizer: Maximum iterations (100) reached and the optimization hasn't converged yet.\n",
            "  % self.max_iter, ConvergenceWarning)\n"
          ],
          "name": "stderr"
        },
        {
          "output_type": "stream",
          "text": [
            "[CV]  activation=relu, hidden_layer_sizes=(3000, 3000), learning_rate_init=0.03, max_iter=100, momentum=0.6, solver=sgd, score=(train=0.995, test=0.512), total= 5.3min\n",
            "[CV] activation=relu, hidden_layer_sizes=(3000, 3000), learning_rate_init=0.03, max_iter=100, momentum=0.6, solver=sgd \n"
          ],
          "name": "stdout"
        },
        {
          "output_type": "stream",
          "text": [
            "[Parallel(n_jobs=1)]: Done   2 out of   2 | elapsed: 10.6min remaining:    0.0s\n",
            "/usr/local/lib/python3.7/dist-packages/sklearn/neural_network/_multilayer_perceptron.py:571: ConvergenceWarning: Stochastic Optimizer: Maximum iterations (100) reached and the optimization hasn't converged yet.\n",
            "  % self.max_iter, ConvergenceWarning)\n"
          ],
          "name": "stderr"
        },
        {
          "output_type": "stream",
          "text": [
            "[CV]  activation=relu, hidden_layer_sizes=(3000, 3000), learning_rate_init=0.03, max_iter=100, momentum=0.6, solver=sgd, score=(train=0.986, test=0.578), total= 5.2min\n",
            "[CV] activation=relu, hidden_layer_sizes=(3000, 3000), learning_rate_init=0.03, max_iter=100, momentum=0.6, solver=sgd \n"
          ],
          "name": "stdout"
        },
        {
          "output_type": "stream",
          "text": [
            "/usr/local/lib/python3.7/dist-packages/sklearn/neural_network/_multilayer_perceptron.py:571: ConvergenceWarning: Stochastic Optimizer: Maximum iterations (100) reached and the optimization hasn't converged yet.\n",
            "  % self.max_iter, ConvergenceWarning)\n"
          ],
          "name": "stderr"
        },
        {
          "output_type": "stream",
          "text": [
            "[CV]  activation=relu, hidden_layer_sizes=(3000, 3000), learning_rate_init=0.03, max_iter=100, momentum=0.6, solver=sgd, score=(train=0.978, test=0.504), total= 5.2min\n",
            "[CV] activation=relu, hidden_layer_sizes=(3000, 3000), learning_rate_init=0.03, max_iter=100, momentum=0.6, solver=sgd \n"
          ],
          "name": "stdout"
        },
        {
          "output_type": "stream",
          "text": [
            "/usr/local/lib/python3.7/dist-packages/sklearn/neural_network/_multilayer_perceptron.py:571: ConvergenceWarning: Stochastic Optimizer: Maximum iterations (100) reached and the optimization hasn't converged yet.\n",
            "  % self.max_iter, ConvergenceWarning)\n"
          ],
          "name": "stderr"
        },
        {
          "output_type": "stream",
          "text": [
            "[CV]  activation=relu, hidden_layer_sizes=(3000, 3000), learning_rate_init=0.03, max_iter=100, momentum=0.6, solver=sgd, score=(train=0.983, test=0.545), total= 5.3min\n"
          ],
          "name": "stdout"
        },
        {
          "output_type": "stream",
          "text": [
            "[Parallel(n_jobs=1)]: Done   5 out of   5 | elapsed: 26.4min finished\n"
          ],
          "name": "stderr"
        },
        {
          "output_type": "stream",
          "text": [
            "{'activation': 'relu', 'hidden_layer_sizes': (3000, 3000), 'learning_rate_init': 0.03, 'max_iter': 100, 'momentum': 0.6, 'solver': 'sgd'}\n",
            "updating exist csv\n",
            "  param_hidden_layer_sizes param_activation param_solver  \\\n",
            "0             (3000, 3000)             relu          sgd   \n",
            "1                     3000             relu          sgd   \n",
            "2             (1500, 1500)             relu          sgd   \n",
            "3                     1500             relu          sgd   \n",
            "4                     1500             relu          sgd   \n",
            "\n",
            "  param_learning_rate_init  ... mean_train_score  std_train_score  \\\n",
            "0                     0.03  ...         0.987090         0.006369   \n",
            "1                     0.02  ...         0.942828         0.004318   \n",
            "2                     0.02  ...         0.963730         0.002869   \n",
            "3                     0.02  ...         0.936885         0.002110   \n",
            "4                     0.02  ...         0.936885         0.002110   \n",
            "\n",
            "   mean_test_score  std_test_score  \n",
            "0         0.531148        0.027136  \n",
            "1         0.521311        0.021748  \n",
            "2         0.516393        0.026306  \n",
            "3         0.510656        0.024808  \n",
            "4         0.510656        0.024808  \n",
            "\n",
            "[5 rows x 9 columns]\n"
          ],
          "name": "stdout"
        },
        {
          "output_type": "stream",
          "text": [
            "/usr/local/lib/python3.7/dist-packages/sklearn/neural_network/_multilayer_perceptron.py:571: ConvergenceWarning: Stochastic Optimizer: Maximum iterations (100) reached and the optimization hasn't converged yet.\n",
            "  % self.max_iter, ConvergenceWarning)\n"
          ],
          "name": "stderr"
        }
      ]
    },
    {
      "cell_type": "markdown",
      "metadata": {
        "id": "rT_b7Luf0xvA"
      },
      "source": [
        "#### MLP - custome CV (TF implementation)"
      ]
    },
    {
      "cell_type": "code",
      "metadata": {
        "id": "gJ0oXxxm0Ppi"
      },
      "source": [
        "## MLP\n",
        "\n",
        "numpy_dataset = train_data.values\n",
        "# X- only features columns | Y- only class column\n",
        "X, y = numpy_dataset[:, 1:-1], numpy_dataset[:, -1]\n",
        "# encode the labels \n",
        "le = LabelEncoder()\n",
        "y = le.fit_transform(y)\n",
        "\n",
        "# set running parameters\n",
        "to_normalize = False\n",
        "normalize_by_feature = False\n",
        "folds_num = 10\n",
        "feature_selection= False\n",
        "top_k_features = 150\n",
        "\n",
        "# set RandomForest param space\n",
        "n_estimators = [50,150,300]\n",
        "max_features = ['auto', 'sqrt']\n",
        "max_depth = [int(x) for x in np.linspace(3, 50, num = 10)]\n",
        "min_samples_split = [2, 5, 10]\n",
        "min_samples_leaf = [1, 2, 4]\n",
        "bootstrap = [True, False]\n",
        "\n",
        "final_results_train = {'accuracy':[], 'F1':[], 'recall':[], 'precision':[]}\n",
        "final_results_val = {'accuracy':[], 'F1':[], 'recall':[], 'precision':[]}\n",
        "\n",
        "# init the feature ranikng for final feature selection\n",
        "final_features_rankings = {f'col_{key}': 0 for key in range(X.shape[1])}\n",
        "\n",
        "skf = StratifiedKFold(n_splits=folds_num, random_state=10, shuffle=True)\n",
        "fold = 1\n",
        "for train_index, val_index in skf.split(X, y):\n",
        "  print(f'\\n *** Fold {fold}: train size={len(train_index)} | validation size={len(val_index)} ***')\n",
        "  X_train, X_val = X[train_index], X[val_index]\n",
        "  y_train, y_val = y[train_index], y[val_index]\n",
        "  fold = fold + 1\n",
        "\n",
        "  if feature_selection:\n",
        "    # feature selection\n",
        "    print(f'Selecting top {top_k_features} features using IG')\n",
        "    features_IG = get_features_IG(X_train,y_train)\n",
        "    selected_features = features_IG.head(top_k_features).index.tolist()\n",
        "    # update the final_features_rankings dict\n",
        "    for feature in selected_features:\n",
        "      key_name = f'col_{feature}'\n",
        "      final_features_rankings[key_name] += 1\n",
        "    # select the top k features\n",
        "    X_train = X_train[:,selected_features]\n",
        " \n",
        "  if to_normalize:\n",
        "    # choose scaler\n",
        "    scaler = StandardScaler()\n",
        "    # scaler = MinMaxScaler()\n",
        "\n",
        "    if normalize_by_feature:\n",
        "      # scaling each feature\n",
        "      x_train = scaler.fit_transform(X_train)\n",
        "    else:\n",
        "      # scaling each row\n",
        "      x_train = scaler.fit_transform(x_train.T).T\n",
        "\n",
        "  rf = RandomForestClassifier(n_estimators= 100, max_depth=12, random_state=fold)\n",
        "  rf.fit(X_train,y_train)\n",
        "\n",
        "  # train_proba = svm.predict_proba(x_train)[:, 1] \n",
        "  train_preds = rf.predict(X_train)\n",
        "  # evaluation metrices - Train\n",
        "  # train_conf_matrix = multilabel_confusion_matrix(y_train, train_preds)\n",
        "  report = classification_report(y_train, train_preds, output_dict=True, zero_division=0)\n",
        "  final_results_train['accuracy'].append(round(report[\"accuracy\"],3))\n",
        "  final_results_train['F1'].append(round(report[\"macro avg\"]['f1-score'],3))\n",
        "  final_results_train['recall'].append(round(report[\"macro avg\"][\"recall\"],3))\n",
        "  final_results_train['precision'].append(round(report[\"macro avg\"][\"precision\"],3))\n",
        "  # print(f' Train: Accuracy:{round(report[\"accuracy\"],3)} | F1:{round(report[\"macro avg\"][\"f1-score\"],3)} | Recall:{round(report[\"macro avg\"][\"recall\"],3)}')\n",
        "  \n",
        "  # ################  validation  #####################\n",
        "\n",
        "  if feature_selection:\n",
        "    # feature selection\n",
        "    X_val = X_val[:,selected_features]\n",
        "\n",
        "  if to_normalize:\n",
        "    if normalize_by_feature:\n",
        "      # scaling each feature\n",
        "      X_val = scaler.transform(X_val)\n",
        "    else:\n",
        "      # scaling each row\n",
        "      X_val = scaler.fit_transform(X_val.T).T\n",
        "\n",
        "  val_preds= rf.predict(X_val)\n",
        "\n",
        "  # val_conf_matrix = multilabel_confusion_matrix(y_val, val_preds)\n",
        "  report = classification_report(y_val, val_preds, output_dict=True , zero_division=0)\n",
        "  final_results_val['accuracy'].append(round(report[\"accuracy\"],3))\n",
        "  final_results_val['F1'].append(round(report[\"macro avg\"]['f1-score'],3))\n",
        "  final_results_val['recall'].append(round(report[\"macro avg\"][\"recall\"],3))\n",
        "  final_results_val['precision'].append(round(report[\"macro avg\"][\"precision\"],3))\n",
        "  # print(f' Validation: Accuracy:{round(report[\"accuracy\"],3)} | F1:{round(report[\"macro avg\"][\"f1-score\"],3)} | Recall:{round(report[\"macro avg\"][\"recall\"],3)}')\n",
        "  \n",
        "\n",
        "## print the AVG results \n",
        "print('\\n *********** Final Results *****************')\n",
        "print(f'Train - Accuracy:{round(np.mean(final_results_train[\"accuracy\"]),3)} | F1:{round(np.mean(final_results_train[\"F1\"]),3)} | Recall:{round(np.mean(final_results_train[\"recall\"]),3)}')\n",
        "print(f'Val - Accuracy:{round(np.mean(final_results_val[\"accuracy\"]),3)} | F1:{round(np.mean(final_results_val[\"F1\"]),3)} | Recall:{round(np.mean(final_results_val[\"recall\"]),3)}')\n",
        "\n",
        "# get the top k used features among all folds\n",
        "if feature_selection:\n",
        "  col_indexes_to_use = []\n",
        "  sorted_final_features_rankings = sorted(final_features_rankings.items(), key=lambda x: x[1], reverse=True)\n",
        "  for element in sorted_final_features_rankings[0:top_k_features]:\n",
        "    col_index = int(element[0].split('_')[1])\n",
        "    col_indexes_to_use.append(col_index)"
      ],
      "execution_count": null,
      "outputs": []
    },
    {
      "cell_type": "markdown",
      "metadata": {
        "id": "I5HhB6841Aiy"
      },
      "source": [
        "#### XGBoost"
      ]
    },
    {
      "cell_type": "code",
      "metadata": {
        "colab": {
          "base_uri": "https://localhost:8080/"
        },
        "id": "UAnLukGATeZJ",
        "outputId": "4196e60b-d287-4d3b-c5f9-c7d902900e8c"
      },
      "source": [
        "#### XGBoost\n",
        "\n",
        "\n",
        "################  training  #####################\n",
        "\n",
        "# creating a DMatrix object for the xgb classifiers\n",
        "numpy_dataset = train_data.values\n",
        "# X- only features columns | Y- only class column\n",
        "X, Y = numpy_dataset[:, 1:-1], numpy_dataset[:, -1]\n",
        "\n",
        "# # scaling each row\n",
        "# scaler = StandardScaler()\n",
        "# X = scaler.fit_transform(X.T)\n",
        "# X = X.T\n",
        "\n",
        "# scaling each feature\n",
        "scaler = StandardScaler()\n",
        "X = scaler.fit_transform(X)\n",
        "\n",
        "dtrain = xgb.DMatrix(X, label=Y)\n",
        "\n",
        "# Setting Parameters\n",
        "param = {'max_depth': 2,\n",
        "         'eta': 1,\n",
        "         'objective': 'binary:logistic',\n",
        "         'nthread':5,\n",
        "         'eval_metric': 'auc',\n",
        "         'verbosity':1,\n",
        "         'seed':10}\n",
        "\n",
        "evallist = [(dtrain, 'train')]\n",
        "\n",
        "num_round = 15\n",
        "bst = xgb.train(param, dtrain, num_round, evallist)\n",
        "\n",
        "train_proba = bst.predict(dtrain)\n",
        "\n",
        "classification_threshold = 0.3\n",
        "\n",
        "## evaluation metrices - Train\n",
        "train_pred = get_predictions(train_proba, threshold=classification_threshold)\n",
        "train_conf_matrix = confusion_matrix(Y.tolist(), train_pred)\n",
        "print('Train:',calc_metrics(train_conf_matrix, train_proba, Y.tolist()))\n",
        "\n",
        "\n",
        "################  testing  #####################\n",
        "\n",
        "# creating a DMatrix object for the xgb classifiers\n",
        "numpy_dataset = test_data.values\n",
        "# X- only features columns | Y- only class column\n",
        "X_test, Y_test = numpy_dataset[:, 1:-1], numpy_dataset[:, -1]\n",
        "\n",
        "# # scaling each row\n",
        "# X_test = scaler.fit_transform(X_test.T)\n",
        "# X_test = X_test.T\n",
        "\n",
        "# scaling each feature\n",
        "X_test = scaler.transform(X_test)\n",
        "\n",
        "dtest = xgb.DMatrix(X_test)\n",
        "test_proba= bst.predict(dtest)\n",
        "\n",
        "## evaluation metrices - Test\n",
        "test_pred = get_predictions(test_proba, threshold=classification_threshold)\n",
        "test_conf_matrix = confusion_matrix(Y_test.tolist(), test_pred)\n",
        "print('Test:',calc_metrics(test_conf_matrix, test_proba, Y_test.tolist()))"
      ],
      "execution_count": null,
      "outputs": [
        {
          "output_type": "stream",
          "text": [
            "[0]\ttrain-auc:0.570797\n",
            "[1]\ttrain-auc:0.597261\n",
            "[2]\ttrain-auc:0.605278\n",
            "[3]\ttrain-auc:0.61401\n",
            "[4]\ttrain-auc:0.629981\n",
            "[5]\ttrain-auc:0.641258\n",
            "[6]\ttrain-auc:0.649692\n",
            "[7]\ttrain-auc:0.652747\n",
            "[8]\ttrain-auc:0.662789\n",
            "[9]\ttrain-auc:0.671367\n",
            "[10]\ttrain-auc:0.677544\n",
            "[11]\ttrain-auc:0.683495\n",
            "[12]\ttrain-auc:0.686003\n",
            "[13]\ttrain-auc:0.69378\n",
            "[14]\ttrain-auc:0.702427\n",
            "Train: {'TPR': 0.3, 'FPR': 0.1, 'ACC': 0.78, 'Precision': 0.46, 'F1_score': 0.37, 'AUC': 0.7024}\n",
            "Test: {'TPR': 0.13, 'FPR': 0.14, 'ACC': 0.71, 'Precision': 0.2, 'F1_score': 0.16, 'AUC': 0.4931}\n"
          ],
          "name": "stdout"
        }
      ]
    },
    {
      "cell_type": "code",
      "metadata": {
        "colab": {
          "base_uri": "https://localhost:8080/"
        },
        "id": "IKTdAesDhJOU",
        "outputId": "e7557f87-5ba9-4074-c044-1900cd0977d3"
      },
      "source": [
        "#### Logistic Regression\n",
        "# creating a DMatrix object for the xgb classifiers\n",
        "numpy_dataset = train_data.values\n",
        "# X- only features columns | Y- only class column\n",
        "x_train, y_train = numpy_dataset[:, 1:-1], numpy_dataset[:, -1]\n",
        "\n",
        "# scaling each feature\n",
        "scaler = StandardScaler()\n",
        "x_train = scaler.fit_transform(x_train)\n",
        "\n",
        "LR = LogisticRegression(C=0.5,max_iter=1000,random_state=10)\n",
        "LR.fit(x_train,y_train.tolist())\n",
        "\n",
        "train_proba = LR.predict_proba(x_train)[:, 1] \n",
        "\n",
        "classification_threshold = 0.5\n",
        "\n",
        "## evaluation metrices - Train\n",
        "train_pred = get_predictions(train_proba, threshold=classification_threshold)\n",
        "train_conf_matrix = confusion_matrix(y_train.tolist(), train_pred)\n",
        "print('Train:',calc_metrics(train_conf_matrix, train_proba, Y.tolist()))\n",
        "\n",
        "\n",
        "################  testing  #####################\n",
        "\n",
        "# creating a DMatrix object for the xgb classifiers\n",
        "numpy_dataset = test_data.values\n",
        "# X- only features columns | Y- only class column\n",
        "X_test, Y_test = numpy_dataset[:, 1:-1], numpy_dataset[:, -1]\n",
        "\n",
        "# # scaling each row\n",
        "# X_test = scaler.fit_transform(X_test.T)\n",
        "# X_test = X_test.T\n",
        "\n",
        "# scaling each feature\n",
        "X_test = scaler.transform(X_test)\n",
        "\n",
        "test_proba = LR.predict_proba(X_test)[:, 1] \n",
        "\n",
        "## evaluation metrices - Test\n",
        "test_pred = get_predictions(test_proba, threshold=classification_threshold)\n",
        "test_conf_matrix = confusion_matrix(Y_test.tolist(), test_pred)\n",
        "print('Test:',calc_metrics(test_conf_matrix, test_proba, Y_test.tolist()))"
      ],
      "execution_count": null,
      "outputs": [
        {
          "output_type": "stream",
          "text": [
            "Train: {'TPR': 0.08, 'FPR': 0.0, 'ACC': 0.8, 'Precision': 0.85, 'F1_score': 0.14, 'AUC': 0.6885}\n",
            "Test: {'TPR': 0.05, 'FPR': 0.03, 'ACC': 0.77, 'Precision': 0.28, 'F1_score': 0.08, 'AUC': 0.4706}\n"
          ],
          "name": "stdout"
        }
      ]
    },
    {
      "cell_type": "code",
      "metadata": {
        "id": "RnHtW5n00hnQ"
      },
      "source": [
        "#### SVM\n",
        "\n",
        "# creating a DMatrix object for the xgb classifiers\n",
        "numpy_dataset = train_data.values\n",
        "# X- only features columns | Y- only class column\n",
        "x_train, y_train = numpy_dataset[:, 1:-1], numpy_dataset[:, -1]\n",
        "\n",
        "# scaling each feature\n",
        "scaler = StandardScaler(with_mean=False)\n",
        "x_train = scaler.fit_transform(x_train)\n",
        "\n",
        "svm = SVC(kernel='rbf',probability=True,random_state=10)\n",
        "svm.fit(x_train,y_train.tolist())\n",
        "\n",
        "train_proba = svm.predict_proba(x_train)[:, 1] \n",
        "\n",
        "classification_threshold = 0.5\n",
        "## evaluation metrices - Train\n",
        "train_pred = get_predictions(train_proba, threshold=classification_threshold)\n",
        "train_conf_matrix = confusion_matrix(y_train.tolist(), train_pred)\n",
        "print('Train:',calc_metrics(train_conf_matrix, train_proba, Y.tolist()))\n",
        "\n",
        "################  testing  #####################\n",
        "\n",
        "# creating a DMatrix object for the xgb classifiers\n",
        "numpy_dataset = test_data.values\n",
        "# X- only features columns | Y- only class column\n",
        "X_test, Y_test = numpy_dataset[:, 1:-1], numpy_dataset[:, -1]\n",
        "\n",
        "# # scaling each row\n",
        "# X_test = scaler.fit_transform(X_test.T)\n",
        "# X_test = X_test.T\n",
        "\n",
        "# scaling each feature\n",
        "X_test = scaler.transform(X_test)\n",
        "test_proba= svm.predict(X_test)\n",
        "test_proba\n",
        "## evaluation metrices - Test\n",
        "test_pred = get_predictions(test_proba, threshold=classification_threshold)\n",
        "test_conf_matrix = confusion_matrix(Y_test.tolist(), test_pred)\n",
        "print('Test:',calc_metrics(test_conf_matrix, test_proba, Y_test.tolist()))"
      ],
      "execution_count": null,
      "outputs": []
    },
    {
      "cell_type": "code",
      "metadata": {
        "colab": {
          "base_uri": "https://localhost:8080/"
        },
        "id": "dOSNPS-e7x_s",
        "outputId": "bcea5ba8-0af3-40b4-f27d-8e0c3d5adba0"
      },
      "source": [
        "#### XGBoost - multiclass\n",
        "\n",
        "################  training  #####################\n",
        "\n",
        "# creating a DMatrix object for the xgb classifiers\n",
        "numpy_dataset = train_data.values\n",
        "# X- only features columns | Y- only class column\n",
        "X, Y = numpy_dataset[:, 1:-1], numpy_dataset[:, -1]\n",
        "\n",
        "le = LabelEncoder()\n",
        "Y = le.fit_transform(Y)\n",
        "\n",
        "# scaling each row\n",
        "# scaler = MinMaxScaler()\n",
        "scaler = StandardScaler()\n",
        "X = scaler.fit_transform(X.T).T\n",
        "\n",
        "# # scaling each feature\n",
        "# scaler = StandardScaler()\n",
        "# X = scaler.fit_transform(X)\n",
        "\n",
        "dtrain = xgb.DMatrix(X, label=Y)\n",
        "\n",
        "# Setting Parameters\n",
        "param = {'max_depth': 3,\n",
        "         'num_class': 24,\n",
        "         'eta': 1,\n",
        "         'objective': 'multi:softmax',\n",
        "         'nthread':5,\n",
        "         'verbosity':1,\n",
        "         'seed':10}\n",
        "\n",
        "num_round = 12\n",
        "bst = xgb.train(param, dtrain, num_round)\n",
        "train_pred = bst.predict(dtrain)\n",
        "\n",
        "classification_threshold = 0.5\n",
        "\n",
        "## evaluation metrices - Train\n",
        "train_conf_matrix = multilabel_confusion_matrix(Y.tolist(), train_pred)\n",
        "report = classification_report(Y.tolist(), train_pred, output_dict=True)\n",
        "print('Train')\n",
        "print(f'Accuracy:{round(report[\"accuracy\"],3)} | F1:{round(report[\"macro avg\"][\"f1-score\"],3)} | Recall:{round(report[\"macro avg\"][\"recall\"],3)} | Precision:{round(report[\"macro avg\"][\"precision\"],3)}')\n",
        "\n",
        "# ################  testing  #####################\n",
        "\n",
        "# creating a DMatrix object for the xgb classifiers\n",
        "numpy_dataset = test_data.values\n",
        "# X- only features columns | Y- only class column\n",
        "X_test, Y_test = numpy_dataset[:, 1:-1], numpy_dataset[:, -1]\n",
        "\n",
        "Y_test =le.transform(Y_test)\n",
        "\n",
        "# # scaling each row\n",
        "X_test = scaler.fit_transform(X_test.T).T\n",
        "\n",
        "# scaling each feature\n",
        "# X_test = scaler.transform(X_test)\n",
        "dtest = xgb.DMatrix(X_test)\n",
        "test_pred= bst.predict(dtest)\n",
        "\n",
        "## evaluation metrices - Test\n",
        "test_conf_matrix = multilabel_confusion_matrix(Y_test.tolist(), test_pred)\n",
        "report = classification_report(Y_test.tolist(), test_pred, output_dict=True)\n",
        "print('Test')\n",
        "print(f'Accuracy:{round(report[\"accuracy\"],3)} | F1:{round(report[\"macro avg\"][\"f1-score\"],3)} | Recall:{round(report[\"macro avg\"][\"recall\"],3)} | Precision:{round(report[\"macro avg\"][\"precision\"],3)}')"
      ],
      "execution_count": null,
      "outputs": [
        {
          "output_type": "stream",
          "text": [
            "Train\n",
            "Accuracy:1.0 | F1:1.0 | Recall:1.0 | Precision:1.0\n",
            "Test\n",
            "Accuracy:0.5 | F1:0.468 | Recall:0.467 | Precision:0.484\n"
          ],
          "name": "stdout"
        }
      ]
    },
    {
      "cell_type": "markdown",
      "metadata": {
        "id": "fmJPvqhR07IF"
      },
      "source": [
        "##### Random"
      ]
    },
    {
      "cell_type": "code",
      "metadata": {
        "colab": {
          "base_uri": "https://localhost:8080/"
        },
        "id": "1MNBkimezf9t",
        "outputId": "78f5615a-a7d4-4b40-c418-89c3d4c7b817"
      },
      "source": [
        "## random guesser - baseline\n",
        "\n",
        "def random_multiclass_classifier(data):\n",
        "  preds = [random.randint(0,23) for x in range(data.shape[0])]\n",
        "  return preds\n",
        "  \n",
        "\n",
        "#### random_multiclass_classifier\n",
        "\n",
        "# creating a DMatrix object for the xgb classifiers\n",
        "numpy_dataset = train_data.values\n",
        "# X- only features columns | Y- only class column\n",
        "x_train, y_train = numpy_dataset[:, 1:-1], numpy_dataset[:, -1]\n",
        "\n",
        "# encode the labels\n",
        "le = LabelEncoder()\n",
        "y_train = le.fit_transform(y_train)\n",
        "\n",
        "# train_proba = svm.predict_proba(x_train)[:, 1] \n",
        "train_preds = random_multiclass_classifier(x_train)\n",
        "# evaluation metrices - Train\n",
        "train_conf_matrix = multilabel_confusion_matrix(y_train.tolist(), train_preds)\n",
        "report = classification_report(y_train.tolist(), train_preds, output_dict=True)\n",
        "print('Train')\n",
        "print(f'Accuracy:{round(report[\"accuracy\"],3)} | F1:{round(report[\"macro avg\"][\"f1-score\"],3)} | Recall:{round(report[\"macro avg\"][\"recall\"],3)} | Precision:{round(report[\"macro avg\"][\"precision\"],3)}')\n",
        "# ################  testing  #####################\n",
        "\n",
        "# creating a DMatrix object for the xgb classifiers\n",
        "numpy_dataset = test_data.values\n",
        "# X- only features columns | Y- only class column\n",
        "X_test, Y_test = numpy_dataset[:, 1:-1], numpy_dataset[:, -1]\n",
        "\n",
        "Y_test = le.transform(Y_test)\n",
        "\n",
        "test_preds= random_multiclass_classifier(X_test)\n",
        "\n",
        "test_conf_matrix = multilabel_confusion_matrix(Y_test.tolist(), test_preds)\n",
        "report = classification_report(Y_test.tolist(), test_preds, output_dict=True)\n",
        "print('Test')\n",
        "print(f'Accuracy:{round(report[\"accuracy\"],3)} | F1:{round(report[\"macro avg\"][\"f1-score\"],3)} | Recall:{round(report[\"macro avg\"][\"recall\"],3)} | Precision:{round(report[\"macro avg\"][\"precision\"],3)}')"
      ],
      "execution_count": null,
      "outputs": [
        {
          "output_type": "stream",
          "text": [
            "Train\n",
            "Accuracy:0.047 | F1:0.046 | Recall:0.045 | Precision:0.048\n",
            "Test\n",
            "Accuracy:0.042 | F1:0.041 | Recall:0.04 | Precision:0.045\n"
          ],
          "name": "stdout"
        }
      ]
    },
    {
      "cell_type": "markdown",
      "metadata": {
        "id": "geQ3zqJtkc1e"
      },
      "source": [
        "### Compare CV results for different smoothings\n"
      ]
    },
    {
      "cell_type": "markdown",
      "metadata": {
        "id": "RxXNCUlzmHDG"
      },
      "source": [
        "#### RandomForest"
      ]
    },
    {
      "cell_type": "code",
      "metadata": {
        "colab": {
          "base_uri": "https://localhost:8080/",
          "height": 571
        },
        "id": "LZvLkaDZkieF",
        "outputId": "42c4353a-e6e9-4166-e07f-73a9f855eccc"
      },
      "source": [
        "tunning_path = '/content/drive/MyDrive/ML_2/main_project/Tuning_results/FFT_pipeline_RF'\n",
        "\n",
        "smoothing_params = [\n",
        "                    {'winsize':2500, 'stride':500, 'op':'mean'},\n",
        "                    {'winsize':2500, 'stride':500, 'op':'max'},\n",
        "                    {'winsize':2500, 'stride':2500, 'op':'max'},\n",
        "                    {'winsize':100, 'stride':500, 'op':'max'},\n",
        "                    {'winsize':1000, 'stride':150, 'op':'mean'},\n",
        "]\n",
        "\n",
        "final_conf_df = pd.DataFrame(columns=['Exp','Smooth_conf','max_depth','n_estimators'])\n",
        "\n",
        "# Build the plot\n",
        "fig, ax = plt.subplots(figsize=(8,6))\n",
        "plt.style.use('seaborn')\n",
        "error_kw = {'capsize': 5, 'capthick': 1, 'ecolor': 'black'}\n",
        "colors = ['#1f77b4', '#ff7f0e', '#2ca02c', '#d62728', '#9467bd']\n",
        "\n",
        "exp_names = []\n",
        "test_ACCs = []\n",
        "test_stds = []\n",
        "for idx,smooth_dict in enumerate(smoothing_params):\n",
        "  winsize = smooth_dict['winsize']\n",
        "  stride = smooth_dict['stride']\n",
        "  op = smooth_dict['op']\n",
        "  curr_csv_name = f'smooth_fft_winsize_{winsize}_stride_{stride}_op_{op}_CV.csv'\n",
        "  curr_res = pd.read_csv(f'{tunning_path}/{curr_csv_name}').iloc[0]\n",
        "\n",
        "  curr_test_acc = curr_res.mean_test_score\n",
        "  curr_test_std = curr_res.std_test_score\n",
        "  curr_max_depth = curr_res.param_max_depth\n",
        "  curr_n_estimators = curr_res.param_n_estimators\n",
        "\n",
        "  exp_name = f'Exp_{idx+1}'\n",
        "  Smooth_conf = f'win:{winsize}_stride:{stride}_{op}'\n",
        "\n",
        "  final_conf_df = final_conf_df.append({'Exp':exp_name,\n",
        "                                        'Smooth_conf':Smooth_conf,\n",
        "                                        'max_depth':curr_max_depth,\n",
        "                                        'n_estimators':curr_n_estimators},ignore_index=True)\n",
        "  exp_names.append(exp_name)\n",
        "  test_ACCs.append(curr_test_acc)\n",
        "  test_stds.append(curr_test_std)\n",
        "\n",
        "  # Make the plot\n",
        "  plt.bar(exp_name,curr_test_acc, yerr=curr_test_std, color=colors[idx],alpha=0.8,error_kw=error_kw, edgecolor='white',linewidth=1.5 ,label=idx)\n",
        "  ax.text(idx-0.15, curr_test_acc -.05, str(round(curr_test_acc,3)), color='black', fontsize=14)\n",
        "  plt.xticks(size=14)\n",
        "\n",
        "# Add xticks on the middle of the group bars\n",
        "# plt.title('RandomForest Cross-validation results',size=14)\n",
        "plt.ylabel('Validation ACC', size=14)\n",
        "plt.yticks(size=14)\n",
        "plt.ylim([0.3,0.6])\n",
        "# ax.xaxis.set_visible(False)\n",
        "# plt.legend(smooth_conf,bbox_to_anchor=(1, 1), loc='upper left',fancybox=True, shadow=False,ncol=1,prop={'size': 12})\n",
        "plt.show()\n",
        "\n",
        "final_conf_df"
      ],
      "execution_count": null,
      "outputs": [
        {
          "output_type": "display_data",
          "data": {
            "image/png": "[encoded data removed]",
            "text/plain": [
              "<Figure size 576x432 with 1 Axes>"
            ]
          },
          "metadata": {
            "tags": []
          }
        },
        {
          "output_type": "execute_result",
          "data": {
            "text/html": [
              "<div>\n",
              "<style scoped>\n",
              "    .dataframe tbody tr th:only-of-type {\n",
              "        vertical-align: middle;\n",
              "    }\n",
              "\n",
              "    .dataframe tbody tr th {\n",
              "        vertical-align: top;\n",
              "    }\n",
              "\n",
              "    .dataframe thead th {\n",
              "        text-align: right;\n",
              "    }\n",
              "</style>\n",
              "<table border=\"1\" class=\"dataframe\">\n",
              "  <thead>\n",
              "    <tr style=\"text-align: right;\">\n",
              "      <th></th>\n",
              "      <th>Exp</th>\n",
              "      <th>Smooth_conf</th>\n",
              "      <th>max_depth</th>\n",
              "      <th>n_estimators</th>\n",
              "    </tr>\n",
              "  </thead>\n",
              "  <tbody>\n",
              "    <tr>\n",
              "      <th>0</th>\n",
              "      <td>Exp_1</td>\n",
              "      <td>win:2500_stride:500_mean</td>\n",
              "      <td>25</td>\n",
              "      <td>600</td>\n",
              "    </tr>\n",
              "    <tr>\n",
              "      <th>1</th>\n",
              "      <td>Exp_2</td>\n",
              "      <td>win:2500_stride:500_max</td>\n",
              "      <td>20</td>\n",
              "      <td>600</td>\n",
              "    </tr>\n",
              "    <tr>\n",
              "      <th>2</th>\n",
              "      <td>Exp_3</td>\n",
              "      <td>win:2500_stride:2500_max</td>\n",
              "      <td>20</td>\n",
              "      <td>600</td>\n",
              "    </tr>\n",
              "    <tr>\n",
              "      <th>3</th>\n",
              "      <td>Exp_4</td>\n",
              "      <td>win:100_stride:500_max</td>\n",
              "      <td>25</td>\n",
              "      <td>600</td>\n",
              "    </tr>\n",
              "    <tr>\n",
              "      <th>4</th>\n",
              "      <td>Exp_5</td>\n",
              "      <td>win:1000_stride:150_mean</td>\n",
              "      <td>20</td>\n",
              "      <td>400</td>\n",
              "    </tr>\n",
              "  </tbody>\n",
              "</table>\n",
              "</div>"
            ],
            "text/plain": [
              "     Exp               Smooth_conf max_depth n_estimators\n",
              "0  Exp_1  win:2500_stride:500_mean        25          600\n",
              "1  Exp_2   win:2500_stride:500_max        20          600\n",
              "2  Exp_3  win:2500_stride:2500_max        20          600\n",
              "3  Exp_4    win:100_stride:500_max        25          600\n",
              "4  Exp_5  win:1000_stride:150_mean        20          400"
            ]
          },
          "metadata": {
            "tags": []
          },
          "execution_count": 226
        }
      ]
    },
    {
      "cell_type": "markdown",
      "metadata": {
        "id": "T-hHPrxZ6wSZ"
      },
      "source": [
        "#### SVM"
      ]
    },
    {
      "cell_type": "code",
      "metadata": {
        "colab": {
          "base_uri": "https://localhost:8080/",
          "height": 571
        },
        "id": "8mo67UQX6yAZ",
        "outputId": "a27a669a-8f6d-4f04-cb66-fb96f06226d1"
      },
      "source": [
        "tunning_path = '/content/drive/MyDrive/ML_2/main_project/Tuning_results/FFT_pipeline_SVM'\n",
        "\n",
        "smoothing_params = [\n",
        "  {'winsize':2500, 'stride':500, 'op':'max','scale':True,'type':'MinMax','colWise':False},\n",
        "  {'winsize':2500, 'stride':500, 'op':'max','scale':True,'type':'Standart','colWise':True},\n",
        "  {'winsize':2500, 'stride':500, 'op':'mean','scale':True,'type':'Standart','colWise':True},\n",
        "  {'winsize':2500, 'stride':500, 'op':'mean','scale':True,'type':'MinMax','colWise':False},\n",
        "  {'winsize':100, 'stride':500, 'op':'max','scale':True,'type':'MinMax','colWise':False},\n",
        "  {'winsize':100, 'stride':500, 'op':'mean','scale':True,'type':'MinMax','colWise':False},\n",
        "  {'winsize':100, 'stride':500, 'op':'mean','scale':True,'type':'Standart','colWise':True},\n",
        "  {'winsize':100, 'stride':500, 'op':'max','scale':True,'type':'Standart','colWise':True},\n",
        "]\n",
        "\n",
        "smoothing_params = [\n",
        "  {'winsize':2500, 'stride':500, 'op':'mean','scale':True,'type':'MinMax','colWise':False},\n",
        "  {'winsize':2500, 'stride':500, 'op':'max','scale':True,'type':'MinMax','colWise':False},\n",
        "  {'winsize':2500, 'stride':2500, 'op':'max','scale':True,'type':'MinMax','colWise':False},\n",
        "  {'winsize':100, 'stride':500, 'op':'max','scale':True,'type':'MinMax','colWise':False},\n",
        "  {'winsize':100, 'stride':500, 'op':'mean','scale':True,'type':'MinMax','colWise':False},\n",
        "]\n",
        "\n",
        "final_conf_df = pd.DataFrame(columns=['Exp','Smooth_conf','Scaling','kernel','C','gamma'])\n",
        "\n",
        "# Build the plot\n",
        "fig, ax = plt.subplots(figsize=(8,6))\n",
        "plt.style.use('seaborn')\n",
        "error_kw = {'capsize': 5, 'capthick': 1, 'ecolor': 'black'}\n",
        "colors = ['#1f77b4', '#ff7f0e', '#2ca02c', '#d62728', '#9467bd', '#3333cc','#009933','#e68a00']\n",
        "\n",
        "exp_names = []\n",
        "test_ACCs = []\n",
        "test_stds = []\n",
        "for idx,smooth_dict in enumerate(smoothing_params):\n",
        "  winsize = smooth_dict['winsize']\n",
        "  stride = smooth_dict['stride']\n",
        "  op = smooth_dict['op']\n",
        "  scale = smooth_dict['scale']\n",
        "  scale_type = smooth_dict['type']\n",
        "  colWise = smooth_dict['colWise']\n",
        "\n",
        "  curr_csv_name = f'smooth_fft_winsize_{winsize}_stride_{stride}_op_{op}_scale_{scale}_type_{scale_type}_colWise_{colWise}_CV.csv'\n",
        "  curr_res = pd.read_csv(f'{tunning_path}/{curr_csv_name}').iloc[0]\n",
        "\n",
        "  curr_test_acc = curr_res.mean_test_score\n",
        "  curr_test_std = curr_res.std_test_score\n",
        "  curr_kernel = curr_res.param_kernel\n",
        "  curr_C = curr_res.param_C\n",
        "  curr_gamma = curr_res.param_gamma\n",
        "\n",
        "  exp_name = f'Exp_{idx+1}'\n",
        "  Smooth_conf = f'win:{winsize}_stride:{stride}_{op}'\n",
        "  Scaling = f'scale_{scale}_type_{scale_type}_colWise_{colWise}'\n",
        "\n",
        "  final_conf_df = final_conf_df.append({'Exp':exp_name,\n",
        "                                        'Smooth_conf':Smooth_conf,\n",
        "                                        'Scaling': Scaling,\n",
        "                                        'kernel':curr_kernel,\n",
        "                                        'C':curr_C\n",
        "                                        ,'gamma': curr_gamma},ignore_index=True)\n",
        "  exp_names.append(exp_name)\n",
        "  test_ACCs.append(curr_test_acc)\n",
        "  test_stds.append(curr_test_std)\n",
        "\n",
        "  # Make the plot\n",
        "  plt.bar(exp_name,curr_test_acc, yerr=curr_test_std, color=colors[idx],alpha=0.8,error_kw=error_kw, edgecolor='white',linewidth=1.5 ,label=idx)\n",
        "  ax.text(idx-0.15, curr_test_acc -.05, str(round(curr_test_acc,3)), color='black', fontsize=14)\n",
        "  plt.xticks(size=14)\n",
        "\n",
        "# Add xticks on the middle of the group bars\n",
        "# plt.title('SVM Cross-validation results',size=14)\n",
        "plt.ylabel('Validation ACC', size=14)\n",
        "plt.yticks(size=14)\n",
        "plt.ylim([0.3,0.6])\n",
        "# ax.xaxis.set_visible(False)\n",
        "# plt.legend(smooth_conf,bbox_to_anchor=(1, 1), loc='upper left',fancybox=True, shadow=False,ncol=1,prop={'size': 12})\n",
        "plt.show()\n",
        "\n",
        "final_conf_df"
      ],
      "execution_count": null,
      "outputs": [
        {
          "output_type": "display_data",
          "data": {
            "image/png": "[encoded data removed]",
            "text/plain": [
              "<Figure size 576x432 with 1 Axes>"
            ]
          },
          "metadata": {
            "tags": []
          }
        },
        {
          "output_type": "execute_result",
          "data": {
            "text/html": [
              "<div>\n",
              "<style scoped>\n",
              "    .dataframe tbody tr th:only-of-type {\n",
              "        vertical-align: middle;\n",
              "    }\n",
              "\n",
              "    .dataframe tbody tr th {\n",
              "        vertical-align: top;\n",
              "    }\n",
              "\n",
              "    .dataframe thead th {\n",
              "        text-align: right;\n",
              "    }\n",
              "</style>\n",
              "<table border=\"1\" class=\"dataframe\">\n",
              "  <thead>\n",
              "    <tr style=\"text-align: right;\">\n",
              "      <th></th>\n",
              "      <th>Exp</th>\n",
              "      <th>Smooth_conf</th>\n",
              "      <th>Scaling</th>\n",
              "      <th>kernel</th>\n",
              "      <th>C</th>\n",
              "      <th>gamma</th>\n",
              "    </tr>\n",
              "  </thead>\n",
              "  <tbody>\n",
              "    <tr>\n",
              "      <th>0</th>\n",
              "      <td>Exp_1</td>\n",
              "      <td>win:2500_stride:500_mean</td>\n",
              "      <td>scale_True_type_MinMax_colWise_False</td>\n",
              "      <td>rbf</td>\n",
              "      <td>5</td>\n",
              "      <td>scale</td>\n",
              "    </tr>\n",
              "    <tr>\n",
              "      <th>1</th>\n",
              "      <td>Exp_2</td>\n",
              "      <td>win:2500_stride:500_max</td>\n",
              "      <td>scale_True_type_MinMax_colWise_False</td>\n",
              "      <td>rbf</td>\n",
              "      <td>5</td>\n",
              "      <td>scale</td>\n",
              "    </tr>\n",
              "    <tr>\n",
              "      <th>2</th>\n",
              "      <td>Exp_3</td>\n",
              "      <td>win:2500_stride:2500_max</td>\n",
              "      <td>scale_True_type_MinMax_colWise_False</td>\n",
              "      <td>rbf</td>\n",
              "      <td>5</td>\n",
              "      <td>scale</td>\n",
              "    </tr>\n",
              "    <tr>\n",
              "      <th>3</th>\n",
              "      <td>Exp_4</td>\n",
              "      <td>win:100_stride:500_max</td>\n",
              "      <td>scale_True_type_MinMax_colWise_False</td>\n",
              "      <td>rbf</td>\n",
              "      <td>5</td>\n",
              "      <td>scale</td>\n",
              "    </tr>\n",
              "    <tr>\n",
              "      <th>4</th>\n",
              "      <td>Exp_5</td>\n",
              "      <td>win:100_stride:500_mean</td>\n",
              "      <td>scale_True_type_MinMax_colWise_False</td>\n",
              "      <td>rbf</td>\n",
              "      <td>5</td>\n",
              "      <td>scale</td>\n",
              "    </tr>\n",
              "  </tbody>\n",
              "</table>\n",
              "</div>"
            ],
            "text/plain": [
              "     Exp               Smooth_conf                               Scaling  \\\n",
              "0  Exp_1  win:2500_stride:500_mean  scale_True_type_MinMax_colWise_False   \n",
              "1  Exp_2   win:2500_stride:500_max  scale_True_type_MinMax_colWise_False   \n",
              "2  Exp_3  win:2500_stride:2500_max  scale_True_type_MinMax_colWise_False   \n",
              "3  Exp_4    win:100_stride:500_max  scale_True_type_MinMax_colWise_False   \n",
              "4  Exp_5   win:100_stride:500_mean  scale_True_type_MinMax_colWise_False   \n",
              "\n",
              "  kernel  C  gamma  \n",
              "0    rbf  5  scale  \n",
              "1    rbf  5  scale  \n",
              "2    rbf  5  scale  \n",
              "3    rbf  5  scale  \n",
              "4    rbf  5  scale  "
            ]
          },
          "metadata": {
            "tags": []
          },
          "execution_count": 227
        }
      ]
    },
    {
      "cell_type": "markdown",
      "metadata": {
        "id": "c40het86O8Tb"
      },
      "source": [
        "#### MLP"
      ]
    },
    {
      "cell_type": "code",
      "metadata": {
        "colab": {
          "base_uri": "https://localhost:8080/",
          "height": 571
        },
        "id": "ZipKSLBZPEDU",
        "outputId": "0848bb9a-4371-49c5-dd5d-a02aad8dea43"
      },
      "source": [
        "tunning_path = '/content/drive/MyDrive/ML_2/main_project/Tuning_results/FFT_pipeline_MLP_sklearn'\n",
        "\n",
        "smoothing_params = [\n",
        "  {'winsize':2500, 'stride':500, 'op':'mean','scale':True,'type':'Standart','colWise':True},\n",
        "  {'winsize':2500, 'stride':500, 'op':'max','scale':True,'type':'Standart','colWise':True},\n",
        "  {'winsize':1000, 'stride':150, 'op':'mean','scale':True,'type':'Standart','colWise':True},\n",
        "  {'winsize':1000, 'stride':150, 'op':'max','scale':True,'type':'Standart','colWise':True},\n",
        "  {'winsize':100, 'stride':100, 'op':'max','scale':True,'type':'Standart','colWise':True},\n",
        "]\n",
        "\n",
        "final_conf_df = pd.DataFrame(columns=['Exp','Smooth_conf','Scaling','activation','solver','le','momentum','layers_shape'])\n",
        "\n",
        "# Build the plot\n",
        "fig, ax = plt.subplots(figsize=(8,6))\n",
        "plt.style.use('seaborn')\n",
        "error_kw = {'capsize': 5, 'capthick': 1, 'ecolor': 'black'}\n",
        "colors = ['#1f77b4', '#ff7f0e', '#2ca02c', '#d62728', '#9467bd', '#3333cc','#009933','#e68a00']\n",
        "\n",
        "exp_names = []\n",
        "test_ACCs = []\n",
        "test_stds = []\n",
        "for idx,smooth_dict in enumerate(smoothing_params):\n",
        "  winsize = smooth_dict['winsize']\n",
        "  stride = smooth_dict['stride']\n",
        "  op = smooth_dict['op']\n",
        "  scale = smooth_dict['scale']\n",
        "  scale_type = smooth_dict['type']\n",
        "  colWise = smooth_dict['colWise']\n",
        "\n",
        "  curr_csv_name = f'smooth_fft_winsize_{winsize}_stride_{stride}_op_{op}_scale_{scale}_type_{scale_type}_colWise_{colWise}_CV.csv'\n",
        "  curr_res = pd.read_csv(f'{tunning_path}/{curr_csv_name}').iloc[0]\n",
        "\n",
        "  curr_test_acc = curr_res.mean_test_score\n",
        "  curr_test_std = curr_res.std_test_score\n",
        "  curr_activation = curr_res.param_activation\n",
        "  curr_solver = curr_res.param_solver\n",
        "  curr_lr = curr_res.param_learning_rate_init\n",
        "  curr_momentum = curr_res.param_momentum\n",
        "  curr_layers_shape = curr_res.param_hidden_layer_sizes\n",
        "\n",
        "  exp_name = f'Exp_{idx+1}'\n",
        "  Smooth_conf = f'win:{winsize}_stride:{stride}_{op}'\n",
        "  Scaling = f'scale_{scale}_type_{scale_type}_colWise_{colWise}'\n",
        "\n",
        "  final_conf_df = final_conf_df.append({'Exp':exp_name,\n",
        "                                        'Smooth_conf':Smooth_conf,\n",
        "                                        'Scaling':Scaling,\n",
        "                                        'activation':curr_activation,\n",
        "                                        'solver':curr_solver,\n",
        "                                        'le':curr_lr,\n",
        "                                        'momentum':curr_momentum,\n",
        "                                        'layers_shape':curr_layers_shape},ignore_index=True)\n",
        "  exp_names.append(exp_name)\n",
        "  test_ACCs.append(curr_test_acc)\n",
        "  test_stds.append(curr_test_std)\n",
        "\n",
        "  # Make the plot\n",
        "  plt.bar(exp_name,curr_test_acc, yerr=curr_test_std, color=colors[idx],alpha=0.8,error_kw=error_kw, edgecolor='white',linewidth=1.5 ,label=idx)\n",
        "  ax.text(idx-0.15, curr_test_acc -.05, str(round(curr_test_acc,3)), color='black', fontsize=14)\n",
        "  plt.xticks(size=14)\n",
        "\n",
        "# Add xticks on the middle of the group bars\n",
        "# plt.title('MLP Cross-validation results',size=14)\n",
        "plt.ylabel('Validation ACC', size=14)\n",
        "plt.yticks(size=14)\n",
        "plt.ylim([0.3,0.6])\n",
        "# ax.xaxis.set_visible(False)\n",
        "# plt.legend(smooth_conf,bbox_to_anchor=(1, 1), loc='upper left',fancybox=True, shadow=False,ncol=1,prop={'size': 12})\n",
        "plt.show()\n",
        "\n",
        "final_conf_df"
      ],
      "execution_count": null,
      "outputs": [
        {
          "output_type": "display_data",
          "data": {
            "image/png": "[encoded data removed]",
            "text/plain": [
              "<Figure size 576x432 with 1 Axes>"
            ]
          },
          "metadata": {
            "tags": []
          }
        },
        {
          "output_type": "execute_result",
          "data": {
            "text/html": [
              "<div>\n",
              "<style scoped>\n",
              "    .dataframe tbody tr th:only-of-type {\n",
              "        vertical-align: middle;\n",
              "    }\n",
              "\n",
              "    .dataframe tbody tr th {\n",
              "        vertical-align: top;\n",
              "    }\n",
              "\n",
              "    .dataframe thead th {\n",
              "        text-align: right;\n",
              "    }\n",
              "</style>\n",
              "<table border=\"1\" class=\"dataframe\">\n",
              "  <thead>\n",
              "    <tr style=\"text-align: right;\">\n",
              "      <th></th>\n",
              "      <th>Exp</th>\n",
              "      <th>Smooth_conf</th>\n",
              "      <th>Scaling</th>\n",
              "      <th>activation</th>\n",
              "      <th>solver</th>\n",
              "      <th>le</th>\n",
              "      <th>momentum</th>\n",
              "      <th>layers_shape</th>\n",
              "    </tr>\n",
              "  </thead>\n",
              "  <tbody>\n",
              "    <tr>\n",
              "      <th>0</th>\n",
              "      <td>Exp_1</td>\n",
              "      <td>win:2500_stride:500_mean</td>\n",
              "      <td>scale_True_type_Standart_colWise_True</td>\n",
              "      <td>relu</td>\n",
              "      <td>sgd</td>\n",
              "      <td>0.02</td>\n",
              "      <td>0.6</td>\n",
              "      <td>(2500, 2500)</td>\n",
              "    </tr>\n",
              "    <tr>\n",
              "      <th>1</th>\n",
              "      <td>Exp_2</td>\n",
              "      <td>win:2500_stride:500_max</td>\n",
              "      <td>scale_True_type_Standart_colWise_True</td>\n",
              "      <td>relu</td>\n",
              "      <td>sgd</td>\n",
              "      <td>0.02</td>\n",
              "      <td>0.6</td>\n",
              "      <td>(1500, 1500, 1500)</td>\n",
              "    </tr>\n",
              "    <tr>\n",
              "      <th>2</th>\n",
              "      <td>Exp_3</td>\n",
              "      <td>win:1000_stride:150_mean</td>\n",
              "      <td>scale_True_type_Standart_colWise_True</td>\n",
              "      <td>relu</td>\n",
              "      <td>sgd</td>\n",
              "      <td>0.02</td>\n",
              "      <td>0.6</td>\n",
              "      <td>3000</td>\n",
              "    </tr>\n",
              "    <tr>\n",
              "      <th>3</th>\n",
              "      <td>Exp_4</td>\n",
              "      <td>win:1000_stride:150_max</td>\n",
              "      <td>scale_True_type_Standart_colWise_True</td>\n",
              "      <td>relu</td>\n",
              "      <td>sgd</td>\n",
              "      <td>0.02</td>\n",
              "      <td>0.6</td>\n",
              "      <td>3000</td>\n",
              "    </tr>\n",
              "    <tr>\n",
              "      <th>4</th>\n",
              "      <td>Exp_5</td>\n",
              "      <td>win:100_stride:100_max</td>\n",
              "      <td>scale_True_type_Standart_colWise_True</td>\n",
              "      <td>relu</td>\n",
              "      <td>sgd</td>\n",
              "      <td>0.03</td>\n",
              "      <td>0.6</td>\n",
              "      <td>(3000, 3000)</td>\n",
              "    </tr>\n",
              "  </tbody>\n",
              "</table>\n",
              "</div>"
            ],
            "text/plain": [
              "     Exp               Smooth_conf                                Scaling  \\\n",
              "0  Exp_1  win:2500_stride:500_mean  scale_True_type_Standart_colWise_True   \n",
              "1  Exp_2   win:2500_stride:500_max  scale_True_type_Standart_colWise_True   \n",
              "2  Exp_3  win:1000_stride:150_mean  scale_True_type_Standart_colWise_True   \n",
              "3  Exp_4   win:1000_stride:150_max  scale_True_type_Standart_colWise_True   \n",
              "4  Exp_5    win:100_stride:100_max  scale_True_type_Standart_colWise_True   \n",
              "\n",
              "  activation solver    le  momentum        layers_shape  \n",
              "0       relu    sgd  0.02       0.6        (2500, 2500)  \n",
              "1       relu    sgd  0.02       0.6  (1500, 1500, 1500)  \n",
              "2       relu    sgd  0.02       0.6                3000  \n",
              "3       relu    sgd  0.02       0.6                3000  \n",
              "4       relu    sgd  0.03       0.6        (3000, 3000)  "
            ]
          },
          "metadata": {
            "tags": []
          },
          "execution_count": 12
        }
      ]
    },
    {
      "cell_type": "markdown",
      "metadata": {
        "id": "jQadZ8I5hVKE"
      },
      "source": [
        "### Evaluate on Test set"
      ]
    },
    {
      "cell_type": "code",
      "metadata": {
        "id": "UGSo8mqokJOQ"
      },
      "source": [
        "# generate results dataframe \n",
        "columns = ['model','smooth','scaling','best_params','train_ACC','train_F1','test_ACC','test_F1']\n",
        "results_df = pd.DataFrame(columns=columns)\n",
        "# results_df.to_csv('/content/drive/MyDrive/ML_2/main_project/Test_results/FFT_results.csv',index=False)"
      ],
      "execution_count": null,
      "outputs": []
    },
    {
      "cell_type": "markdown",
      "metadata": {
        "id": "7-dCQXA0hYu8"
      },
      "source": [
        "#### RandomForest"
      ]
    },
    {
      "cell_type": "code",
      "metadata": {
        "colab": {
          "base_uri": "https://localhost:8080/",
          "height": 352
        },
        "id": "DfdxXXP6bskz",
        "outputId": "1d7a6ef2-9096-46d1-f547-464c55bc8dc8"
      },
      "source": [
        "# set the optimal params according to the CV stage\n",
        "model_dict = {'model':'RandomForest',\n",
        "              'winsize':2500,\n",
        "              'stride': 500,\n",
        "              'op': 'max',\n",
        "              'scale':False,\n",
        "              'scale_type': None,\n",
        "              'colWise':None,\n",
        "              'best_params': {'max_depth':20, 'n_estimators':600}}\n",
        "\n",
        "# load the relevant dataset\n",
        "df_to_load, ML_data = load_data_for_multicalss(model_dict['winsize'],model_dict['stride'],model_dict['op'], show_barplot=False)\n",
        "\n",
        "# the split indexes are the same for all models due to the random_state\n",
        "train_data, test_data = train_test_split(ML_data, test_size=0.15, stratify=ML_data['label'] ,random_state=10)\n",
        "\n",
        "print(f'Model: {model_dict[\"model\"]} --|-- Dim: {train_data.shape[1]-2}')\n",
        "\n",
        "numpy_dataset = train_data.values\n",
        "# X- only features columns | Y- only class column\n",
        "X, y = numpy_dataset[:, 1:-1], numpy_dataset[:, -1]\n",
        "# encode the labels \n",
        "le = LabelEncoder()\n",
        "y = le.fit_transform(y)\n",
        "\n",
        "max_depth_val = model_dict['best_params']['max_depth']\n",
        "n_estimators_val = model_dict['best_params']['n_estimators']\n",
        "\n",
        "rf = RandomForestClassifier(max_depth=max_depth_val,n_estimators=n_estimators_val, random_state=10)\n",
        "rf.fit(X,y)\n",
        "\n",
        "train_preds = rf.predict(X)\n",
        "report = classification_report(y, train_preds, output_dict=True)\n",
        "\n",
        "train_acc = round(report[\"accuracy\"],3)\n",
        "train_f1 = round(report[\"weighted avg\"][\"f1-score\"],3)\n",
        "print(f'Train: Accuracy:{train_acc} | F1:{train_f1}')\n",
        "\n",
        "## evaluate best configuration on the test set\n",
        "numpy_dataset = test_data.values\n",
        "# X- only features columns | Y- only class column\n",
        "X_test, Y_test = numpy_dataset[:, 1:-1], numpy_dataset[:, -1]\n",
        "Y_test = le.transform(Y_test)\n",
        "\n",
        "test_preds= rf.predict(X_test)\n",
        "\n",
        "report = classification_report(Y_test, test_preds, output_dict=True)\n",
        "\n",
        "test_acc = round(report[\"accuracy\"],3)\n",
        "test_f1 = round(report[\"weighted avg\"][\"f1-score\"],3)\n",
        "print(f'Test: Accuracy:{test_acc} | F1:{test_f1}')\n",
        "\n",
        "# save results to csv\n",
        "smooth = f'winsize_{model_dict[\"winsize\"]}_stride_{model_dict[\"stride\"]}_op_{model_dict[\"op\"]}'\n",
        "if model_dict['scale']:\n",
        "  scaling = f'{model_dict[\"scale_type\"]}_colWise_{model_dict[\"colWise\"]}'\n",
        "else:\n",
        "  scaling = False\n",
        "\n",
        "best_params = model_dict['best_params']\n",
        "\n",
        "new_df_record = {'model':model_dict[\"model\"],'smooth':smooth,'scaling':scaling,\n",
        "                 'best_params':best_params,'train_ACC':train_acc,'train_F1':train_f1,'test_ACC':test_acc,'test_F1':test_f1}\n",
        "\n",
        "\n",
        "creatMat(Y_test,test_preds,'Random Forest')\n",
        "\n",
        "# FFT_results = pd.read_csv('/content/drive/MyDrive/ML_2/main_project/Test_results/FFT_results.csv')\n",
        "# FFT_results = FFT_results.append(new_df_record, ignore_index=True).sort_values(['test_ACC'], ascending=False).reset_index(drop=True)\n",
        "# FFT_results = FFT_results.drop_duplicates(subset=['model','smooth','scaling'])\n",
        "# FFT_results.to_csv('/content/drive/MyDrive/ML_2/main_project/Test_results/FFT_results.csv', index=False)\n",
        "# FFT_results"
      ],
      "execution_count": null,
      "outputs": [
        {
          "output_type": "stream",
          "text": [
            "Model: RandomForest --|-- Dim: 476\n",
            "Train: Accuracy:1.0 | F1:1.0\n",
            "Test: Accuracy:0.657 | F1:0.636\n"
          ],
          "name": "stdout"
        },
        {
          "output_type": "display_data",
          "data": {
            "image/png": "[encoded data removed]",
            "text/plain": [
              "<Figure size 432x288 with 2 Axes>"
            ]
          },
          "metadata": {
            "tags": [],
            "needs_background": "light"
          }
        }
      ]
    },
    {
      "cell_type": "markdown",
      "metadata": {
        "id": "pAR-yQYkhfIe"
      },
      "source": [
        "#### SVM"
      ]
    },
    {
      "cell_type": "code",
      "metadata": {
        "colab": {
          "base_uri": "https://localhost:8080/",
          "height": 216
        },
        "id": "P9zUhIFxhjFv",
        "outputId": "ca1b2641-7daa-41a0-e864-60d6f8fe9096"
      },
      "source": [
        "# set the optimal params according to the CV stage\n",
        "model_dict = {'model':'SVM',\n",
        "              'winsize':100,\n",
        "              'stride': 500,\n",
        "              'op': 'max',\n",
        "              'scale':True,\n",
        "              'scale_type': 'MinMax',\n",
        "              'colWise':False,\n",
        "              'best_params': {'kernel':'rbf', 'C':5}} \n",
        "        \n",
        "df_to_load, ML_data = load_data_for_multicalss(model_dict['winsize'],model_dict['stride'],model_dict['op'], show_barplot=False)\n",
        "\n",
        "# the split indexes are the same for all models due to the random_state\n",
        "train_data, test_data = train_test_split(ML_data, test_size=0.15, stratify=ML_data['label'] ,random_state=10)\n",
        "\n",
        "print(f'Model: {model_dict[\"model\"]} --|-- Dim: {train_data.shape[1]-2}')\n",
        "\n",
        "numpy_dataset = train_data.values\n",
        "# X- only features columns | Y- only class column\n",
        "X, y = numpy_dataset[:, 1:-1], numpy_dataset[:, -1]\n",
        "# encode the labels \n",
        "le = LabelEncoder()\n",
        "y = le.fit_transform(y)\n",
        "\n",
        "# set running parameters\n",
        "to_normalize = model_dict['scale']\n",
        "normalize_by_feature = model_dict['colWise']\n",
        "scaler_type = model_dict['scale_type']\n",
        "\n",
        "if to_normalize:\n",
        "  if scaler_type == 'Standart':\n",
        "    scaler = StandardScaler()\n",
        "  elif scaler_type == 'MinMax':\n",
        "    scaler = MinMaxScaler()\n",
        "\n",
        "  if normalize_by_feature:\n",
        "    # scaling each feature\n",
        "    X = scaler.fit_transform(X)\n",
        "  else:\n",
        "    # scaling each row\n",
        "    X = scaler.fit_transform(X.T).T\n",
        "\n",
        "kernel_val = model_dict['best_params']['kernel']\n",
        "C_val = model_dict['best_params']['C']\n",
        "\n",
        "svc = SVC(kernel=kernel_val, C=C_val, decision_function_shape='ovr', probability=False, random_state=10)\n",
        "svc.fit(X,y)\n",
        "\n",
        "train_preds = svc.predict(X)\n",
        "\n",
        "report = classification_report(y, train_preds, output_dict=True)\n",
        "\n",
        "train_acc = round(report[\"accuracy\"],3)\n",
        "train_f1 = round(report[\"weighted avg\"][\"f1-score\"],3)\n",
        "print(f'Train: Accuracy:{train_acc} | F1:{train_f1}')\n",
        "\n",
        "\n",
        "## evaluate best configuration on the test set\n",
        "numpy_dataset = test_data.values\n",
        "# X- only features columns | Y- only class column\n",
        "X_test, Y_test = numpy_dataset[:, 1:-1], numpy_dataset[:, -1]\n",
        "Y_test = le.transform(Y_test)\n",
        "\n",
        "\n",
        "if to_normalize:\n",
        "  if normalize_by_feature:\n",
        "    # scaling each feature\n",
        "    X_test = scaler.transform(X_test)\n",
        "  else:\n",
        "    # scaling each row\n",
        "    X_test = scaler.fit_transform(X_test.T).T\n",
        "\n",
        "test_preds= svc.predict(X_test)\n",
        "\n",
        "report = classification_report(Y_test, test_preds, output_dict=True)\n",
        "\n",
        "test_acc = round(report[\"accuracy\"],3)\n",
        "test_f1 = round(report[\"weighted avg\"][\"f1-score\"],3)\n",
        "print(f'Test: Accuracy:{test_acc} | F1:{test_f1}')\n",
        "\n",
        "\n",
        "# save results to csv\n",
        "smooth = f'winsize_{model_dict[\"winsize\"]}_stride_{model_dict[\"stride\"]}_op_{model_dict[\"op\"]}'\n",
        "if model_dict['scale']:\n",
        "  scaling = f'{model_dict[\"scale_type\"]}_colWise_{model_dict[\"colWise\"]}'\n",
        "else:\n",
        "  scaling = False\n",
        "\n",
        "best_params = model_dict['best_params']\n",
        "\n",
        "new_df_record = {'model':model_dict[\"model\"],'smooth':smooth,'scaling':scaling,\n",
        "                 'best_params':best_params,'train_ACC':train_acc,'train_F1':train_f1,'test_ACC':test_acc,'test_F1':test_f1}\n",
        "\n",
        "FFT_results = pd.read_csv('/content/drive/MyDrive/ML_2/main_project/Test_results/FFT_results.csv')\n",
        "FFT_results = FFT_results.append(new_df_record, ignore_index=True).sort_values(['test_ACC'], ascending=False).reset_index(drop=True)\n",
        "FFT_results = FFT_results.drop_duplicates(subset=['model','smooth','scaling'])\n",
        "FFT_results.to_csv('/content/drive/MyDrive/ML_2/main_project/Test_results/FFT_results.csv', index=False)\n",
        "FFT_results"
      ],
      "execution_count": null,
      "outputs": [
        {
          "output_type": "stream",
          "text": [
            "Model: SVM --|-- Dim: 480\n",
            "Train: Accuracy:0.904 | F1:0.906\n",
            "Test: Accuracy:0.551 | F1:0.533\n"
          ],
          "name": "stdout"
        },
        {
          "output_type": "stream",
          "text": [
            "/usr/local/lib/python3.7/dist-packages/sklearn/metrics/_classification.py:1272: UndefinedMetricWarning: Precision and F-score are ill-defined and being set to 0.0 in labels with no predicted samples. Use `zero_division` parameter to control this behavior.\n",
            "  _warn_prf(average, modifier, msg_start, len(result))\n"
          ],
          "name": "stderr"
        },
        {
          "output_type": "execute_result",
          "data": {
            "text/html": [
              "<div>\n",
              "<style scoped>\n",
              "    .dataframe tbody tr th:only-of-type {\n",
              "        vertical-align: middle;\n",
              "    }\n",
              "\n",
              "    .dataframe tbody tr th {\n",
              "        vertical-align: top;\n",
              "    }\n",
              "\n",
              "    .dataframe thead th {\n",
              "        text-align: right;\n",
              "    }\n",
              "</style>\n",
              "<table border=\"1\" class=\"dataframe\">\n",
              "  <thead>\n",
              "    <tr style=\"text-align: right;\">\n",
              "      <th></th>\n",
              "      <th>model</th>\n",
              "      <th>smooth</th>\n",
              "      <th>scaling</th>\n",
              "      <th>best_params</th>\n",
              "      <th>train_ACC</th>\n",
              "      <th>train_F1</th>\n",
              "      <th>test_ACC</th>\n",
              "      <th>test_F1</th>\n",
              "    </tr>\n",
              "  </thead>\n",
              "  <tbody>\n",
              "    <tr>\n",
              "      <th>0</th>\n",
              "      <td>RandomForest</td>\n",
              "      <td>winsize_2500_stride_500_op_max</td>\n",
              "      <td>False</td>\n",
              "      <td>{'max_depth': 20, 'n_estimators': 600}</td>\n",
              "      <td>1.000</td>\n",
              "      <td>1.000</td>\n",
              "      <td>0.657</td>\n",
              "      <td>0.636</td>\n",
              "    </tr>\n",
              "    <tr>\n",
              "      <th>1</th>\n",
              "      <td>SVM</td>\n",
              "      <td>winsize_100_stride_500_op_max</td>\n",
              "      <td>MinMax_colWise_False</td>\n",
              "      <td>{'kernel': 'rbf', 'C': 5}</td>\n",
              "      <td>0.904</td>\n",
              "      <td>0.906</td>\n",
              "      <td>0.551</td>\n",
              "      <td>0.533</td>\n",
              "    </tr>\n",
              "  </tbody>\n",
              "</table>\n",
              "</div>"
            ],
            "text/plain": [
              "          model                          smooth               scaling  \\\n",
              "0  RandomForest  winsize_2500_stride_500_op_max                 False   \n",
              "1           SVM   winsize_100_stride_500_op_max  MinMax_colWise_False   \n",
              "\n",
              "                              best_params  train_ACC  train_F1  test_ACC  \\\n",
              "0  {'max_depth': 20, 'n_estimators': 600}      1.000     1.000     0.657   \n",
              "1               {'kernel': 'rbf', 'C': 5}      0.904     0.906     0.551   \n",
              "\n",
              "   test_F1  \n",
              "0    0.636  \n",
              "1    0.533  "
            ]
          },
          "metadata": {
            "tags": []
          },
          "execution_count": 11
        }
      ]
    },
    {
      "cell_type": "markdown",
      "metadata": {
        "id": "X4OLzZrPpnFc"
      },
      "source": [
        "#### MLP"
      ]
    },
    {
      "cell_type": "code",
      "metadata": {
        "colab": {
          "base_uri": "https://localhost:8080/",
          "height": 247
        },
        "id": "qIlCiOg9pmfN",
        "outputId": "1dbec303-06d0-48fb-b6a2-77fb4199a70c"
      },
      "source": [
        "# set the optimal params according to the CV stage\n",
        "model_dict = {'model':'MLP',\n",
        "              'winsize':1000,\n",
        "              'stride': 150,\n",
        "              'op': 'max',\n",
        "              'scale':True,\n",
        "              'scale_type': 'Standart',\n",
        "              'colWise':True,\n",
        "              'best_params': {'hidden_layer_sizes': (3000),\n",
        "                              'activation': 'relu',\n",
        "                              'solver': 'sgd',\n",
        "                              'learning_rate_init':0.02,\n",
        "                              'max_iter': 250,\n",
        "                              'momentum': 0.6}} \n",
        "        \n",
        "df_to_load, ML_data = load_data_for_multicalss(model_dict['winsize'],model_dict['stride'],model_dict['op'], show_barplot=False)\n",
        "\n",
        "# the split indexes are the same for all models due to the random_state\n",
        "train_data, test_data = train_test_split(ML_data, test_size=0.15, stratify=ML_data['label'] ,random_state=10)\n",
        "\n",
        "print(f'Model: {model_dict[\"model\"]} --|-- Dim: {train_data.shape[1]-2}')\n",
        "\n",
        "numpy_dataset = train_data.values\n",
        "# X- only features columns | Y- only class column\n",
        "X, y = numpy_dataset[:, 1:-1], numpy_dataset[:, -1]\n",
        "# encode the labels \n",
        "le = LabelEncoder()\n",
        "y = le.fit_transform(y)\n",
        "\n",
        "# set running parameters\n",
        "to_normalize = model_dict['scale']\n",
        "normalize_by_feature = model_dict['colWise']\n",
        "scaler_type = model_dict['scale_type']\n",
        "\n",
        "if to_normalize:\n",
        "  if scaler_type == 'Standart':\n",
        "    scaler = StandardScaler()\n",
        "  elif scaler_type == 'MinMax':\n",
        "    scaler = MinMaxScaler()\n",
        "\n",
        "  if normalize_by_feature:\n",
        "    # scaling each feature\n",
        "    X = scaler.fit_transform(X)\n",
        "  else:\n",
        "    # scaling each row\n",
        "    X = scaler.fit_transform(X.T).T\n",
        "\n",
        "hidden_layer_sizes = model_dict['best_params']['hidden_layer_sizes']\n",
        "activation = model_dict['best_params']['activation']\n",
        "solver = model_dict['best_params']['solver']\n",
        "learning_rate_init = model_dict['best_params']['learning_rate_init']\n",
        "momentum = model_dict['best_params']['momentum']\n",
        "max_iter = model_dict['best_params']['max_iter']\n",
        "\n",
        "mlp = MLPClassifier(hidden_layer_sizes = hidden_layer_sizes,\n",
        "                    activation = activation,\n",
        "                    solver = solver,\n",
        "                    learning_rate_init = learning_rate_init,\n",
        "                    momentum = momentum,\n",
        "                    max_iter = max_iter,\n",
        "                    random_state=10)\n",
        "\n",
        "mlp.fit(X,y)\n",
        "train_preds = mlp.predict(X)\n",
        "\n",
        "report = classification_report(y, train_preds, output_dict=True)\n",
        "\n",
        "train_acc = round(report[\"accuracy\"],3)\n",
        "train_f1 = round(report[\"weighted avg\"][\"f1-score\"],3)\n",
        "print(f'Train: Accuracy:{train_acc} | F1:{train_f1}')\n",
        "\n",
        "\n",
        "## evaluate best configuration on the test set\n",
        "numpy_dataset = test_data.values\n",
        "# X- only features columns | Y- only class column\n",
        "X_test, Y_test = numpy_dataset[:, 1:-1], numpy_dataset[:, -1]\n",
        "Y_test = le.transform(Y_test)\n",
        "\n",
        "\n",
        "if to_normalize:\n",
        "  if normalize_by_feature:\n",
        "    # scaling each feature\n",
        "    X_test = scaler.transform(X_test)\n",
        "  else:\n",
        "    # scaling each row\n",
        "    X_test = scaler.fit_transform(X_test.T).T\n",
        "\n",
        "test_preds= mlp.predict(X_test)\n",
        "\n",
        "report = classification_report(Y_test, test_preds, output_dict=True)\n",
        "\n",
        "test_acc = round(report[\"accuracy\"],3)\n",
        "test_f1 = round(report[\"weighted avg\"][\"f1-score\"],3)\n",
        "print(f'Test: Accuracy:{test_acc} | F1:{test_f1}')\n",
        "\n",
        "\n",
        "# save results to csv\n",
        "smooth = f'winsize_{model_dict[\"winsize\"]}_stride_{model_dict[\"stride\"]}_op_{model_dict[\"op\"]}'\n",
        "if model_dict['scale']:\n",
        "  scaling = f'{model_dict[\"scale_type\"]}_colWise_{model_dict[\"colWise\"]}'\n",
        "else:\n",
        "  scaling = False\n",
        "\n",
        "best_params = model_dict['best_params']\n",
        "\n",
        "new_df_record = {'model':model_dict[\"model\"],'smooth':smooth,'scaling':scaling,\n",
        "                 'best_params':best_params,'train_ACC':train_acc,'train_F1':train_f1,'test_ACC':test_acc,'test_F1':test_f1}\n",
        "\n",
        "FFT_results = pd.read_csv('/content/drive/MyDrive/ML_2/main_project/Test_results/FFT_results.csv')\n",
        "FFT_results = FFT_results.append(new_df_record, ignore_index=True).sort_values(['test_ACC'], ascending=False).reset_index(drop=True)\n",
        "FFT_results = FFT_results.drop_duplicates(subset=['model','smooth','scaling'])\n",
        "FFT_results.to_csv('/content/drive/MyDrive/ML_2/main_project/Test_results/FFT_results.csv', index=False)\n",
        "FFT_results"
      ],
      "execution_count": null,
      "outputs": [
        {
          "output_type": "stream",
          "text": [
            "Model: MLP --|-- Dim: 1594\n"
          ],
          "name": "stdout"
        },
        {
          "output_type": "stream",
          "text": [
            "/usr/local/lib/python3.7/dist-packages/sklearn/neural_network/_multilayer_perceptron.py:571: ConvergenceWarning: Stochastic Optimizer: Maximum iterations (250) reached and the optimization hasn't converged yet.\n",
            "  % self.max_iter, ConvergenceWarning)\n"
          ],
          "name": "stderr"
        },
        {
          "output_type": "stream",
          "text": [
            "Train: Accuracy:0.988 | F1:0.988\n",
            "Test: Accuracy:0.569 | F1:0.557\n"
          ],
          "name": "stdout"
        },
        {
          "output_type": "execute_result",
          "data": {
            "text/html": [
              "<div>\n",
              "<style scoped>\n",
              "    .dataframe tbody tr th:only-of-type {\n",
              "        vertical-align: middle;\n",
              "    }\n",
              "\n",
              "    .dataframe tbody tr th {\n",
              "        vertical-align: top;\n",
              "    }\n",
              "\n",
              "    .dataframe thead th {\n",
              "        text-align: right;\n",
              "    }\n",
              "</style>\n",
              "<table border=\"1\" class=\"dataframe\">\n",
              "  <thead>\n",
              "    <tr style=\"text-align: right;\">\n",
              "      <th></th>\n",
              "      <th>model</th>\n",
              "      <th>smooth</th>\n",
              "      <th>scaling</th>\n",
              "      <th>best_params</th>\n",
              "      <th>train_ACC</th>\n",
              "      <th>train_F1</th>\n",
              "      <th>test_ACC</th>\n",
              "      <th>test_F1</th>\n",
              "    </tr>\n",
              "  </thead>\n",
              "  <tbody>\n",
              "    <tr>\n",
              "      <th>0</th>\n",
              "      <td>RandomForest</td>\n",
              "      <td>winsize_2500_stride_500_op_max</td>\n",
              "      <td>False</td>\n",
              "      <td>{'max_depth': 20, 'n_estimators': 600}</td>\n",
              "      <td>1.000</td>\n",
              "      <td>1.000</td>\n",
              "      <td>0.657</td>\n",
              "      <td>0.636</td>\n",
              "    </tr>\n",
              "    <tr>\n",
              "      <th>1</th>\n",
              "      <td>MLP</td>\n",
              "      <td>winsize_1000_stride_150_op_max</td>\n",
              "      <td>Standart_colWise_True</td>\n",
              "      <td>{'hidden_layer_sizes': 3000, 'activation': 're...</td>\n",
              "      <td>0.988</td>\n",
              "      <td>0.988</td>\n",
              "      <td>0.569</td>\n",
              "      <td>0.557</td>\n",
              "    </tr>\n",
              "    <tr>\n",
              "      <th>2</th>\n",
              "      <td>SVM</td>\n",
              "      <td>winsize_100_stride_500_op_max</td>\n",
              "      <td>MinMax_colWise_False</td>\n",
              "      <td>{'kernel': 'rbf', 'C': 5}</td>\n",
              "      <td>0.904</td>\n",
              "      <td>0.906</td>\n",
              "      <td>0.551</td>\n",
              "      <td>0.533</td>\n",
              "    </tr>\n",
              "  </tbody>\n",
              "</table>\n",
              "</div>"
            ],
            "text/plain": [
              "          model                          smooth                scaling  \\\n",
              "0  RandomForest  winsize_2500_stride_500_op_max                  False   \n",
              "1           MLP  winsize_1000_stride_150_op_max  Standart_colWise_True   \n",
              "2           SVM   winsize_100_stride_500_op_max   MinMax_colWise_False   \n",
              "\n",
              "                                         best_params  train_ACC  train_F1  \\\n",
              "0             {'max_depth': 20, 'n_estimators': 600}      1.000     1.000   \n",
              "1  {'hidden_layer_sizes': 3000, 'activation': 're...      0.988     0.988   \n",
              "2                          {'kernel': 'rbf', 'C': 5}      0.904     0.906   \n",
              "\n",
              "   test_ACC  test_F1  \n",
              "0     0.657    0.636  \n",
              "1     0.569    0.557  \n",
              "2     0.551    0.533  "
            ]
          },
          "metadata": {
            "tags": []
          },
          "execution_count": 12
        }
      ]
    },
    {
      "cell_type": "markdown",
      "metadata": {
        "id": "aaFDu1r5l9vK"
      },
      "source": [
        "### Compare Model's Test results"
      ]
    },
    {
      "cell_type": "code",
      "metadata": {
        "colab": {
          "base_uri": "https://localhost:8080/",
          "height": 409
        },
        "id": "Dn9700HO5dil",
        "outputId": "94da4164-39ab-45ae-f38e-ac48c3d1b54e"
      },
      "source": [
        "pipe_1_results = pd.read_csv('/content/drive/MyDrive/ML_2/main_project/Test_results/FFT_results.csv')\n",
        "\n",
        "x_labels = [f'FFT_{i}' for i in pipe_1_results['model']]\n",
        "\n",
        "# Set plot parameters\n",
        "fig, ax = plt.subplots(figsize=(8,6))\n",
        "width = 0.35 # width of bar\n",
        "x = np.arange(len(x_labels))\n",
        "\n",
        "for idx,model in enumerate(pipe_1_results['model']):\n",
        "\n",
        "  curr_results = pipe_1_results[pipe_1_results['model']==model]\n",
        "  curr_test_acc = curr_results.test_ACC.values[0]\n",
        "  curr_test_f1 = curr_results.test_F1.values[0]\n",
        "\n",
        "  ax.bar(idx*1.2, curr_test_acc, width, color='#000080', label='Accuracy',alpha=.85)\n",
        "  ax.text(idx*1.12 - (1-idx)*0.09 , curr_test_acc + .01, str(curr_test_acc), color='black', fontweight='bold')\n",
        "  ax.bar(idx*1.2 + width, curr_test_f1, width, color='#73C2FB', label='F1 score',alpha=.85)\n",
        "  ax.text(idx*1.12 + width -(1-idx)*0.09, curr_test_f1 + .01, str(round(curr_test_f1,3)), color='black', fontweight='bold')\n",
        "  \n",
        "\n",
        "ax.set_ylabel('Value')\n",
        "ax.set_ylim(0.15,0.8)\n",
        "ax.set_xticks([0.2,1.4,2.6]) # play with the positions to fit the figure\n",
        "ax.set_xticklabels(x_labels)\n",
        "ax.set_xlabel('Final Models', fontweight='bold', size=14)\n",
        "ax.set_title('Test Results')\n",
        "ax.legend(['Accuracy','F1 score'], fontsize=14)\n",
        "plt.grid(True, 'major', 'y', ls='--', lw=.5, c='k', alpha=.3)\n",
        "\n",
        "plt.savefig('/content/drive/MyDrive/ML_2/main_project/Test_results/Test_results_pipeline_1.png')\n",
        "plt.show()"
      ],
      "execution_count": null,
      "outputs": [
        {
          "output_type": "display_data",
          "data": {
            "image/png": "[encoded data removed]",
            "text/plain": [
              "<Figure size 576x432 with 1 Axes>"
            ]
          },
          "metadata": {
            "tags": [],
            "needs_background": "light"
          }
        }
      ]
    },
    {
      "cell_type": "code",
      "metadata": {
        "colab": {
          "base_uri": "https://localhost:8080/"
        },
        "id": "PiZZV82ZiI8w",
        "outputId": "d0690c1d-e146-4f41-9149-a3c5fedbc31c"
      },
      "source": [
        "## get test results for random guesser\n",
        "random.seed(12)\n",
        "\n",
        "# load the relevant dataset\n",
        "df_to_load, ML_data = load_data_for_multicalss(2500,500,'max', show_barplot=False)\n",
        "# the split indexes are the same for all models due to the random_state\n",
        "train_data, test_data = train_test_split(ML_data, test_size=0.15, stratify=ML_data['label'] ,random_state=10)\n",
        "\n",
        "## evaluate best configuration on the test set\n",
        "numpy_dataset = test_data.values\n",
        "# X- only features columns | Y- only class column\n",
        "X_test, Y_test = numpy_dataset[:, 1:-1], numpy_dataset[:, -1]\n",
        "Y_test = le.transform(Y_test)\n",
        "\n",
        "y_preds = [random.randint(0,23) for i in range(test_data.shape[0])] \n",
        "\n",
        "report = classification_report(Y_test, y_preds, output_dict=True)\n",
        "\n",
        "test_acc = round(report[\"accuracy\"],3)\n",
        "test_f1 = round(report[\"weighted avg\"][\"f1-score\"],3)\n",
        "print(f'Test: Accuracy:{test_acc} | F1:{test_f1}')"
      ],
      "execution_count": null,
      "outputs": [
        {
          "output_type": "stream",
          "text": [
            "Test: Accuracy:0.042 | F1:0.041\n"
          ],
          "name": "stdout"
        }
      ]
    },
    {
      "cell_type": "code",
      "metadata": {
        "colab": {
          "base_uri": "https://localhost:8080/",
          "height": 507
        },
        "id": "CW09qqplhcKO",
        "outputId": "ff6ae4a4-b6e3-49ed-f5b2-04d64b3b551f"
      },
      "source": [
        "#### models from all pipelines\n",
        "models_name = ['Random guesser', 'Pipe_1_RandomForest', 'Pipe_1_XGBoost', 'Pipe_1_LR', 'Pipe_1_SVM', 'Pipe_2_RandomForest','Pipe_2_MLP','Pipe_2_SVM']\n",
        "\n",
        "ACC_vals = [0.042, 0.204,0.185,0.157,0.139, 0.657,0.569, 0.551]\n",
        "F1_vals = [0.041, 0.153,0.174,0.095,0.068, 0.636,0.557, 0.533]\n",
        "\n",
        "\n",
        "# dark blue = #0000b3\n",
        "# light blue = #73C2FB\n",
        "\n",
        "# dark red = #b30000\n",
        "# light red = #ff9999\n",
        "\n",
        "# dark green = #009900\n",
        "# light green = #80ff80\n",
        "\n",
        "ACC_colors = ['#b30000','#0000b3','#0000b3','#0000b3','#0000b3','#009900','#009900','#009900']\n",
        "F1_colors = ['#ff9999','#73C2FB','#73C2FB','#73C2FB','#73C2FB','#80ff80', '#80ff80','#80ff80']\n",
        "\n",
        "labels_for_legend = ['Random', 'Time Domain','Time Domain','Time Domain','Time Domain','Frequency Domain','Frequency Domain','Frequency Domain']\n",
        "\n",
        "\n",
        "# Set plot parameters\n",
        "fig, ax = plt.subplots(figsize=(20,8))\n",
        "# width = 0.5 # width of bar\n",
        "x = np.arange(len(models_name))\n",
        "\n",
        "for idx,model in enumerate(models_name):\n",
        "\n",
        "  # curr_test_f1 = F1_vals[idx]\n",
        "\n",
        "  ax.bar(model, ACC_vals[idx], color=ACC_colors[idx], label = labels_for_legend[idx],alpha=.5)\n",
        "  ax.text(model, ACC_vals[idx] + .01, str(ACC_vals[idx]), color='black', size=14, horizontalalignment='center')\n",
        "  # ax.bar(idx*1.2 + width, curr_test_f1, width, color=F1_colors[idx], label='F1 score',alpha=.85)\n",
        "  # ax.text(idx*1.1 + width -(1-idx)*0.09, curr_test_f1 + .01, str(round(curr_test_f1,3)), color='black', fontweight='bold')\n",
        "  \n",
        "\n",
        "ax.set_ylabel('Accuracy', size=14)\n",
        "ax.set_ylim(0,0.75)\n",
        "# ax.set_xticks([0.25,1.45,2.65, 3.83, 5.048, 6.24, 7.45, 8.65]) # play with the positions to fit the figure\n",
        "ax.set_xticklabels(models_name, size=12)\n",
        "# ax.set_xlabel('Final Models', fontweight='bold', size=14)\n",
        "ax.set_title('Final Test Results', size = 20)\n",
        "# ax.legend(fontsize=15, loc=2)\n",
        "plt.grid(True, 'major', 'y', ls='--', lw=.5, c='k', alpha=.3)"
      ],
      "execution_count": null,
      "outputs": [
        {
          "output_type": "display_data",
          "data": {
            "image/png": "[encoded data removed]",
            "text/plain": [
              "<Figure size 1440x576 with 1 Axes>"
            ]
          },
          "metadata": {
            "tags": [],
            "needs_background": "light"
          }
        }
      ]
    }
  ]
}